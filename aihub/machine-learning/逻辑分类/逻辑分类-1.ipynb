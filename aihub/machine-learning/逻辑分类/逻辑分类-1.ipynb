{
 "cells": [
  {
   "cell_type": "markdown",
   "metadata": {},
   "source": [
    "# 逻辑分类LC"
   ]
  },
  {
   "cell_type": "markdown",
   "metadata": {},
   "source": [
    "首先介绍一下线性模型。\n",
    "\n",
    "线性模型：**把每个特征对分类结果的“作用”加起来——这就是线性模型。**"
   ]
  },
  {
   "cell_type": "markdown",
   "metadata": {},
   "source": [
    "逻辑分类（Logistic Classification）是一种线性模型，可以表示为$y =f(x*w+b)$，其中w是训练得到的权重参数（Weight）；\n",
    "\n",
    "x是样本特征数据；b是偏置（Bias），f成为激活函数。"
   ]
  },
  {
   "cell_type": "markdown",
   "metadata": {},
   "source": [
    "就是给定一批样本数据集，和样本对象所属的分类，进行建立模型。使用模型对新来的对象对象分类预测。"
   ]
  },
  {
   "cell_type": "markdown",
   "metadata": {},
   "source": [
    "值得注意的是，逻辑分类中，我们想要的结果为分类类型，而不再是线性回归中的数值。"
   ]
  },
  {
   "cell_type": "markdown",
   "metadata": {},
   "source": [
    "> 注意：在逻辑分类中，我们想要的结果是对象所属的分类，比如A类、B类，属于标称型数据。\n",
    "\n",
    ">但是在数学中，一般没办法使用A、B表示，而使用0、1、2、3表示每种类别。注意这里的0、1、2、3只是表示对应的标称分类，并不表示具体的数值。\n",
    "\n",
    ">也就是说，并不能表述为1比0大，就像不能表述为B类比A类大。也不能表述为1比3更靠近0，就像不能表述为B类比C类更靠近A类。必能在逻辑分类的学习中，一定要注意把握这一点。"
   ]
  },
  {
   "cell_type": "markdown",
   "metadata": {},
   "source": [
    "既然逻辑分类中，我们想要的输出结果不再是数值型的，但是在线性回归中我们学习的都是计算数值型的结果，那怎么应用呢？"
   ]
  },
  {
   "cell_type": "markdown",
   "metadata": {},
   "source": [
    "我们可以使用一种成为**one-hot编码**的方式，将分类编码成数值。"
   ]
  },
  {
   "cell_type": "markdown",
   "metadata": {},
   "source": [
    "比如有4个分类0、1、2、3。我们可以将"
   ]
  },
  {
   "cell_type": "markdown",
   "metadata": {},
   "source": [
    "分类0编码成[1,0,0,0]  第一个分量的值为1，其他为0，表示为对象属于第一个分类的概率为1，属于其他分类的概率为0。\n",
    "\n",
    "分类1编码成[0,1,0,0]  第二个分量的值为1，其他为0，表示为对象属于第二个分类的概率为1，属于其他分类的概率为0。\n",
    "\n",
    "分类2编码成[0,0,1,0]  第三个分量的值为1，其他为0，表示为对象属于第三个分类的概率为1，属于其他分类的概率为0。\n",
    "\n",
    "分类3编码成[0,0,0,1]  第四个分量的值为1，其他为0，表示为对象属于第四个分类的概率为1，属于其他分类的概率为0。\n",
    "\n",
    "而分类概率是数值型的，也就是说我们预测的结果就变成了四维数值型的。\n"
   ]
  },
  {
   "cell_type": "markdown",
   "metadata": {},
   "source": [
    "# 重点来了"
   ]
  },
  {
   "cell_type": "markdown",
   "metadata": {},
   "source": [
    "所以在建立逻辑分类模型前必须先将标称分类，转化为数值型的one-hot编码才能运用线性模型进行数值运算。\n",
    "\n",
    "也就是说逻辑分类一定是多输出的。只不过你在拿到样本数据集时样本数据的结果都是标称型的分类，这种数据集是不能应用于逻辑分类建模的。"
   ]
  },
  {
   "cell_type": "markdown",
   "metadata": {},
   "source": [
    "比如下面是你拿到的数据集。第一列为属性x1，第二列为属性x2，第三列为分类结果，包含0,1,2三种分类"
   ]
  },
  {
   "cell_type": "markdown",
   "metadata": {},
   "source": [
    "\n",
    "```\n",
    "x1\t\tx2\t\ty\n",
    "0.1\t\t0.2\t\t0\n",
    "0.12\t0.32\t0\n",
    "0.21\t0.31\t1\n",
    "0.25\t0.15\t2\n",
    "```"
   ]
  },
  {
   "cell_type": "markdown",
   "metadata": {},
   "source": [
    "必须先将数据集转化为下面的模式。x0为常值0，对象的回归系数表示偏量值b，标称型分为转化为数值型概率。"
   ]
  },
  {
   "cell_type": "markdown",
   "metadata": {},
   "source": [
    "```\n",
    "x0\t\tx1\t\tx2\t\ty1\t\ty2\t\ty3\n",
    "1\t\t0.1\t\t0.2\t\t1\t\t0\t\t0\n",
    "1\t\t0.12\t0.32\t1\t\t0\t\t0\n",
    "1\t\t0.21\t0.31\t0\t\t1\t\t0\n",
    "1\t\t0.25\t0.15\t0\t\t0\t\t1\n",
    "```"
   ]
  },
  {
   "cell_type": "markdown",
   "metadata": {},
   "source": [
    "这样我们要求的回归系数矩阵w也不再是线性回归中的向量，而是矩阵。\n",
    "\n",
    "比如\n",
    "有m行x，每一个x有n个属性，然后每个x有一个分类，也就有m行y，每个y可以被分成k个元素的向量，我需要先把m行y变成一个m行k列的矩阵，最后计算出一个（j+1）*k列的w矩阵。"
   ]
  }
 ],
 "metadata": {
  "kernelspec": {
   "display_name": "Python 3",
   "language": "python",
   "name": "python3"
  },
  "language_info": {
   "codemirror_mode": {
    "name": "ipython",
    "version": 3
   },
   "file_extension": ".py",
   "mimetype": "text/x-python",
   "name": "python",
   "nbconvert_exporter": "python",
   "pygments_lexer": "ipython3",
   "version": "3.6.9"
  }
 },
 "nbformat": 4,
 "nbformat_minor": 4
}
