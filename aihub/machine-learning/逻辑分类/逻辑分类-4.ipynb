{
 "cells": [
  {
   "cell_type": "markdown",
   "metadata": {},
   "source": [
    "## 二分类逻辑回归案例 ##"
   ]
  },
  {
   "cell_type": "markdown",
   "metadata": {},
   "source": [
    "## 构造数据集 ##"
   ]
  },
  {
   "cell_type": "markdown",
   "metadata": {},
   "source": [
    "每行为一个对象，每列为一个特征属性，第1列为x1，第2列为x2，最后一列为所属分类。"
   ]
  },
  {
   "cell_type": "markdown",
   "metadata": {},
   "source": [
    "```\n",
    "data=[\n",
    "    [-0.017612,14.053064,0],\n",
    "\t[-0.752157,6.538620,0],\n",
    "\t[-1.322371,7.152853,0],\n",
    "\t[0.423363,11.054677,0],\n",
    "\t[0.569411,9.548755,0],\n",
    "\t[-0.026632,10.427743,0],\n",
    "\t[0.667394,12.741452,0],\n",
    "\t[1.347183,13.175500,0],\n",
    "\t[1.217916,9.597015,0],\n",
    "\t[-0.733928,9.098687,0],\n",
    "\t[1.416614,9.619232,0],\n",
    "\t[1.388610,9.341997,0],\n",
    "\t[0.317029,14.739025,0],\n",
    "\t[-0.576525,11.778922,0],\n",
    "\t[-1.781871,9.097953,0],\n",
    "\t[-1.395634,4.662541,1],\n",
    "\t[0.406704,7.067335,1],\n",
    "\t[-2.460150,6.866805,1],\n",
    "\t[0.850433,6.920334,1],\n",
    "\t[1.176813,3.167020,1],\n",
    "\t[-0.566606,5.749003,1],\n",
    "\t[0.931635,1.589505,1],\n",
    "\t[-0.024205,6.151823,1],\n",
    "\t[-0.036453,2.690988,1],\n",
    "\t[-0.196949,0.444165,1],\n",
    "\t[1.014459,5.754399,1],\n",
    "\t[1.985298,3.230619,1],\n",
    "\t[-1.693453,-0.557540,1],\n",
    "\t[-0.346811,-1.678730,1],\n",
    "\t[-2.124484,2.672471,1]\n",
    "]\n",
    "```"
   ]
  },
  {
   "cell_type": "code",
   "execution_count": 2,
   "metadata": {},
   "outputs": [],
   "source": [
    "data=[\n",
    "    [-0.017612,14.053064,0],\n",
    "\t[-0.752157,6.538620,0],\n",
    "\t[-1.322371,7.152853,0],\n",
    "\t[0.423363,11.054677,0],\n",
    "\t[0.569411,9.548755,0],\n",
    "\t[-0.026632,10.427743,0],\n",
    "\t[0.667394,12.741452,0],\n",
    "\t[1.347183,13.175500,0],\n",
    "\t[1.217916,9.597015,0],\n",
    "\t[-0.733928,9.098687,0],\n",
    "\t[1.416614,9.619232,0],\n",
    "\t[1.388610,9.341997,0],\n",
    "\t[0.317029,14.739025,0],\n",
    "\t[-0.576525,11.778922,0],\n",
    "\t[-1.781871,9.097953,0],\n",
    "\t[-1.395634,4.662541,1],\n",
    "\t[0.406704,7.067335,1],\n",
    "\t[-2.460150,6.866805,1],\n",
    "\t[0.850433,6.920334,1],\n",
    "\t[1.176813,3.167020,1],\n",
    "\t[-0.566606,5.749003,1],\n",
    "\t[0.931635,1.589505,1],\n",
    "\t[-0.024205,6.151823,1],\n",
    "\t[-0.036453,2.690988,1],\n",
    "\t[-0.196949,0.444165,1],\n",
    "\t[1.014459,5.754399,1],\n",
    "\t[1.985298,3.230619,1],\n",
    "\t[-1.693453,-0.557540,1],\n",
    "\t[-0.346811,-1.678730,1],\n",
    "\t[-2.124484,2.672471,1]\n",
    "]"
   ]
  },
  {
   "cell_type": "markdown",
   "metadata": {},
   "source": [
    "先将数据集转化为逻辑分类可以处理的数据结构。即，为对象添加值为1的属性x0，将输出分类转换为one-hot编码。"
   ]
  },
  {
   "cell_type": "code",
   "execution_count": 3,
   "metadata": {},
   "outputs": [],
   "source": [
    "#加载数据集，最后一列最为类别标签，前面的为特征属性的值\n",
    "def loadDataSet(datasrc):\n",
    "    dataMat = np.mat(datasrc)\n",
    "    y = dataMat[:, dataMat.shape[1] - 1]  # 最后一列为结果列\n",
    "    b = np.ones(y.shape)  # 添加全1列向量代表b偏量\n",
    "    X = np.column_stack((b, dataMat[:, 0:dataMat.shape[1] - 1]))  # 特征属性集和b偏量组成x\n",
    "    X = np.mat(X)\n",
    "    labeltype = np.unique(y.tolist())  # 获取分类数目\n",
    "    eyes = np.eye(len(labeltype))  # 每一类用单位矩阵中对应的行代替，表示目标概率。如分类0的概率[1,0,0]，分类1的概率[0,1,0]，分类2的概率[0,0,1]\n",
    "    Y = np.zeros((X.shape[0], len(labeltype)))\n",
    "    for i in range(X.shape[0]):\n",
    "        Y[i, :] = eyes[int(y[i, 0])]  # 读取分类，替换成概率向量。这就要求分类为0,1,2,3,4,5这样的整数\n",
    "    # print(Y)\n",
    "    return X, y, Y  # X为特征数据集，y为分类数据集，Y为概率集"
   ]
  },
  {
   "cell_type": "markdown",
   "metadata": {},
   "source": [
    "我们先来看看数据是个什么样子"
   ]
  },
  {
   "cell_type": "code",
   "execution_count": 4,
   "metadata": {},
   "outputs": [],
   "source": [
    "#可视化样本数据集\n",
    "def plotDataSet():\n",
    "    dataMat,labelMat,labelPMat = loadDataSet(data)                        #加载数据集\n",
    "    plt.scatter(dataMat[:,1].flatten().A[0],dataMat[:,2].flatten().A[0],c=labelMat.flatten().A[0])                   #第一个偏量为b，第2个偏量x1，第3个偏量x2\n",
    "    plt.xlabel('X1'); plt.ylabel('X2')                                 #绘制label\n",
    "    plt.xlim([-3,3])\n",
    "    plt.ylim([-4,16])\n",
    "    plt.show()"
   ]
  },
  {
   "cell_type": "markdown",
   "metadata": {},
   "source": [
    "![这里写图片描述](https://img-blog.csdnimg.cn/img_convert/69c8b1c9caaf439ae40836bab4ab6f73.png)"
   ]
  },
  {
   "cell_type": "markdown",
   "metadata": {},
   "source": [
    "我们使用的样本数据，有两个特征属性，x1和x2如果，算上b偏量就是三个回归系数。结果为2分类。\n",
    "\n",
    "则线性函数的输出结果为[z0,z1]\n",
    "\n",
    "z0=w00*1 + w01*x1 + w02*x2\n",
    "z1=w10*1 + w11*x1 + w12*x2\n",
    "\n",
    "线性函数的结果[z0,z1]再经过Sigmoid激活函数，可得到预测的分类概率[y0,y1]。\n",
    "\n",
    "当然最开始这个预测的分类概率并不准确，所以需要模型训练，不停的根据预测的结果是否准确来调整回归系数。\n",
    "\n",
    "其中Sigmoid逻辑回归函数实现如下：\n"
   ]
  },
  {
   "cell_type": "code",
   "execution_count": 5,
   "metadata": {},
   "outputs": [],
   "source": [
    "# sigmoid函数，逻辑回归函数，将线性回归值转化为概率的激活函数\n",
    "def sigmoid(x):\n",
    "    return 1.0 / (1 + np.exp(-x))"
   ]
  },
  {
   "cell_type": "markdown",
   "metadata": {},
   "source": [
    "## 梯度下降法获取回归系数： ##"
   ]
  },
  {
   "cell_type": "markdown",
   "metadata": {},
   "source": [
    "在逻辑回归中，梯度下降法的更新公式为\n",
    "\n",
    "$w_{k+1}=w_k-\\rho  \\nabla J(w_k)=w_k-\\rho  X^T(sigmoid(Xw_k)-y)$\n"
   ]
  },
  {
   "cell_type": "markdown",
   "metadata": {},
   "source": [
    "按照这个公式实现代码"
   ]
  },
  {
   "cell_type": "code",
   "execution_count": 7,
   "metadata": {},
   "outputs": [],
   "source": [
    "# 逻辑回归中使用梯度下降法求回归系数。逻辑回归和线性回归中原理相同，只不过逻辑回归使用sigmoid作为迭代进化函数。因为逻辑回归是为了分类而生。线性回归为了预测而生\n",
    "def gradAscent(dataMat, labelPMat):\n",
    "    m, n = np.shape(dataMat)                                            #返回dataMatrix的大小。m为行数,n为列数。\n",
    "    alpha = 0.05                                                        #移动步长,也就是学习速率,控制更新的幅度。\n",
    "    maxCycles = 1000                                                      #最大迭代次数\n",
    "    weights = np.ones((n,labelPMat.shape[1]))                                             #初始化权重列向量\n",
    "    for k in range(maxCycles):\n",
    "        h =  sigmoid(dataMat * weights)                                #梯度上升矢量化公式，计算预测值（列向量）。每一个样本产生一个预测值\n",
    "        error = h-labelPMat                                            #计算每一个样本预测值误差\n",
    "        weights = weights - alpha * dataMat.T * error                   # 根据所有的样本产生的误差调整回归系数\n",
    "    return weights.getA()                                               # 将矩阵转换为数组，返回回归系数数组"
   ]
  },
  {
   "cell_type": "markdown",
   "metadata": {},
   "source": [
    "绘制分类区域"
   ]
  },
  {
   "cell_type": "code",
   "execution_count": 10,
   "metadata": {},
   "outputs": [
    {
     "name": "stdout",
     "output_type": "stream",
     "text": [
      "[[-25.59438046  25.59391839]\n",
      " [ -0.98397956   0.98400217]\n",
      " [  3.78622424  -3.78617333]]\n"
     ]
    },
    {
     "name": "stderr",
     "output_type": "stream",
     "text": [
      "/usr/local/lib/python3.6/dist-packages/ipykernel_launcher.py:16: MatplotlibDeprecationWarning: shading='flat' when X and Y have the same dimensions as C is deprecated since 3.3.  Either specify the corners of the quadrilaterals with X and Y, or pass shading='auto', 'nearest' or 'gouraud', or set rcParams['pcolor.shading'].  This will become an error two minor releases later.\n",
      "  app.launch_new_instance()\n"
     ]
    },
    {
     "data": {
      "image/png": "[encoded data removed]",
      "text/plain": [
       "<Figure size 432x288 with 1 Axes>"
      ]
     },
     "metadata": {
      "needs_background": "light"
     },
     "output_type": "display_data"
    }
   ],
   "source": [
    "# 分类只能绘制分界区域。而不是通过分割线来可视化\n",
    "def plotBestFit(dataMat,labelMat,weights):\n",
    "\n",
    "    # 先产生x1和x2取值范围上的网格点，并预测每个网格点上的值。\n",
    "    step = 0.02\n",
    "    x1_min, x1_max = -3,3\n",
    "    x2_min, x2_max = -4,16\n",
    "    xx1, xx2 = np.meshgrid(np.arange(x1_min, x1_max, step), np.arange(x2_min, x2_max, step))\n",
    "    testMat = np.c_[xx1.ravel(), xx2.ravel()]   #形成测试特征数据集\n",
    "    testMat = np.column_stack((np.ones(((testMat.shape[0]),1)),testMat))  #添加第一列为全1代表b偏量\n",
    "    testMat = np.mat(testMat)\n",
    "    y = sigmoid(testMat*weights)   #输出每个样本属于每个分类的概率\n",
    "    predicted = y.argmax(axis=1)                            #获取每行最大值的位置，位置索引就是分类\n",
    "    predicted = predicted.reshape(xx1.shape).getA()\n",
    "    # 绘制区域网格图\n",
    "    plt.pcolormesh(xx1, xx2, predicted, cmap=plt.cm.Paired)\n",
    "\n",
    "    # 再绘制一遍样本数据点，这样方便查看\n",
    "    plt.scatter(dataMat[:, 1].flatten().A[0], dataMat[:, 2].flatten().A[0],\n",
    "                c=labelMat.flatten().A[0], alpha=.5)  # 第一个偏量为b，第2个偏量x1，第3个偏量x2\n",
    "    plt.xlim([-3,3])\n",
    "    plt.ylim([-4,16])\n",
    "    plt.show()\n",
    "\n",
    "if __name__ == '__main__':\n",
    "    import numpy as np;\n",
    "    import matplotlib.pyplot as plt ;\n",
    "    dataMat, labelMat, labelPMat = loadDataSet(data)   # 加载数据集\n",
    "    weights = gradAscent(dataMat, labelPMat)         # 梯度下降法求回归系数\n",
    "    print(weights)\n",
    "\n",
    "    plotBestFit(dataMat,labelMat,weights)"
   ]
  },
  {
   "cell_type": "markdown",
   "metadata": {},
   "source": [
    "回归系数矩阵w为：\n",
    "\n",
    "[[-25.38603398  25.43723638]\n",
    " [ -3.98349475   3.99351765]\n",
    " [  3.60847635  -3.61579463]]\n",
    "\n",
    "绘制出的分割区域为\n",
    "\n",
    "![这里写图片描述](https://img-blog.csdnimg.cn/img_convert/489b27990fbc4b75d75a27d59255ac52.png)\n"
   ]
  },
  {
   "cell_type": "markdown",
   "metadata": {},
   "source": [
    "## 随机梯度下降法获取回归系数： ##"
   ]
  },
  {
   "cell_type": "markdown",
   "metadata": {},
   "source": [
    "在逻辑回归中，随机梯度下降法的更新公式为\n",
    "\n",
    "$w_{k+1}=w_k-\\rho_kx_k^T(sigmoid(x_kw_k)-y_k)$\n",
    "\n",
    "其中$x_k$为一个样本对象（行向量），$y_k$为该对象的输出（行向量）。\n"
   ]
  },
  {
   "cell_type": "code",
   "execution_count": 11,
   "metadata": {},
   "outputs": [],
   "source": [
    "# 逻辑回归中使用随机梯度下降算法。numIter为迭代次数。改进之处：alpha移动步长是变化的。一次只用一个样本点去更新回归系数，这样就可以有效减少计算量了\n",
    "def stocGradAscent(dataMatrix, labelPMat, numIter=500):\n",
    "    m,n = np.shape(dataMatrix)                                                #返回dataMatrix的大小。m为样本对象的数目,n为列数。\n",
    "    weights = np.ones((n,labelPMat.shape[1]))                                                  #参数初始化\n",
    "    for j in range(numIter):\n",
    "        for k in range(m):                                                    # 遍历m个样本对象\n",
    "            alpha = 10/(1.0+j+k)+0.01                                          #降低alpha的大小，每次减小1/(j+i)。刚开始的时候可以步长大一点，后面调整越精细\n",
    "            h = sigmoid(dataMatrix[k]*weights)                        #选择随机选取的一个样本，计算预测值h\n",
    "            error = h-labelPMat[k]                              #计算一个样本的误差\n",
    "            weights = weights - alpha * dataMatrix[k].T*error         #更新回归系数\n",
    "    return weights.getA()                                                           #将矩阵转换为数组，返回回归系数数组"
   ]
  },
  {
   "cell_type": "markdown",
   "metadata": {},
   "source": [
    "获取回归系数矩阵，绘制分割区域"
   ]
  },
  {
   "cell_type": "code",
   "execution_count": 12,
   "metadata": {},
   "outputs": [
    {
     "name": "stderr",
     "output_type": "stream",
     "text": [
      "/usr/local/lib/python3.6/dist-packages/ipykernel_launcher.py:3: RuntimeWarning: overflow encountered in exp\n",
      "  This is separate from the ipykernel package so we can avoid doing imports until\n"
     ]
    },
    {
     "name": "stdout",
     "output_type": "stream",
     "text": [
      "[[-23.02355894  24.91011965]\n",
      " [ -0.53497869   0.54390795]\n",
      " [  3.04863856  -3.31945114]]\n"
     ]
    },
    {
     "name": "stderr",
     "output_type": "stream",
     "text": [
      "/usr/local/lib/python3.6/dist-packages/ipykernel_launcher.py:16: MatplotlibDeprecationWarning: shading='flat' when X and Y have the same dimensions as C is deprecated since 3.3.  Either specify the corners of the quadrilaterals with X and Y, or pass shading='auto', 'nearest' or 'gouraud', or set rcParams['pcolor.shading'].  This will become an error two minor releases later.\n",
      "  app.launch_new_instance()\n"
     ]
    },
    {
     "data": {
      "image/png": "[encoded data removed]",
      "text/plain": [
       "<Figure size 432x288 with 1 Axes>"
      ]
     },
     "metadata": {
      "needs_background": "light"
     },
     "output_type": "display_data"
    }
   ],
   "source": [
    "if __name__ == '__main__':\n",
    "    dataMat, labelMat, labelPMat = loadDataSet(data)   # 加载数据集\n",
    "    weights = stocGradAscent(dataMat, labelPMat)    # 局部梯度下降法求回归系数\n",
    "    print(weights)\n",
    "    plotBestFit(dataMat,labelMat,weights)"
   ]
  },
  {
   "cell_type": "markdown",
   "metadata": {},
   "source": [
    "回归系数矩阵为：\n",
    "\n",
    "[[-23.98429667  27.70302552]\n",
    " [ -3.8623706    4.56685091]\n",
    " [  3.36581925  -3.90760748]]\n",
    "\n",
    "\n",
    "绘制出的分割区域为\n",
    "\n",
    "![这里写图片描述](https://img-blog.csdnimg.cn/img_convert/7629975ef4706cca2b7fdf7d84101fbd.png)\n"
   ]
  },
  {
   "cell_type": "markdown",
   "metadata": {},
   "source": [
    "# 对新对象进行预测"
   ]
  },
  {
   "cell_type": "markdown",
   "metadata": {},
   "source": [
    "有了回归系数矩阵，就可以对逻辑回归问题进行分类了。\n"
   ]
  },
  {
   "cell_type": "code",
   "execution_count": 13,
   "metadata": {},
   "outputs": [
    {
     "name": "stdout",
     "output_type": "stream",
     "text": [
      "[[-25.59438046  25.59391839]\n",
      " [ -0.98397956   0.98400217]\n",
      " [  3.78622424  -3.78617333]]\n",
      "[[0]] [[1.0000000e+00 1.0355974e-13]]\n"
     ]
    }
   ],
   "source": [
    "# 对新对象进行预测\n",
    "def predict(weights,testdata):\n",
    "    testdata.insert(0, 1.0)       #现在首部添加1代表b偏量\n",
    "    testMat = np.mat([testdata])\n",
    "    y=sigmoid(testMat * np.mat(weights))  # 对输入进行预测\n",
    "    type = y.argmax(axis=1)  # 概率最大的分类就是预测分类。由于输出值y为行向量，所按行取最大值的位置\n",
    "    return type, y  # type为所属分类，h为属于每种分类的概率\n",
    "\n",
    "\n",
    "if __name__ == '__main__':\n",
    "    dataMat, labelMat, labelPMat = loadDataSet(data)   # 加载数据集\n",
    "    weights = gradAscent(dataMat, labelPMat)         # 梯度下降法求回归系数\n",
    "    # weights = gradAscent(dataMat, labelPMat)         # 梯度下降法求回归系数\n",
    "    print(weights)\n",
    "    type,h = predict(weights,[0.317029,14.739025])\n",
    "    print(type,h)"
   ]
  },
  {
   "cell_type": "markdown",
   "metadata": {},
   "source": [
    "**输出分类和概率为**\n",
    "\n",
    "[[0]] [[  1.00000000e+00   4.43767950e-13]]\n",
    "\n",
    "表示输入对象[0.317029,14.739025]，属于分类0，因为属于分类0 的概率为1.0，属于分类1的概率为4.43767950e-13。"
   ]
  },
  {
   "cell_type": "markdown",
   "metadata": {},
   "source": [
    "## 多分类softmax回归 ##"
   ]
  },
  {
   "cell_type": "markdown",
   "metadata": {},
   "source": [
    "## 加载数据集 ##"
   ]
  },
  {
   "cell_type": "markdown",
   "metadata": {},
   "source": [
    "数据集就采用如下的数据，和二分类的区别在于类别有三种：0，1，2。\n",
    "\n",
    "样本数据集第一列为属性x1，第二列为属性x2，第三列为分类（三种类别）"
   ]
  },
  {
   "cell_type": "code",
   "execution_count": 14,
   "metadata": {},
   "outputs": [],
   "source": [
    "# 样本数据集，第一列为x1，第二列为x2，第三列为分类（三种类别）\n",
    "data=[\n",
    "        [-2.68420713, 0.32660731, 0],[-2.71539062, -0.16955685, 0],[-2.88981954, -0.13734561, 0],[-2.7464372, -0.31112432, 0],[-2.72859298, 0.33392456, 0],\n",
    "        [-2.27989736, 0.74778271, 0],[-2.82089068, -0.08210451, 0],[-2.62648199, 0.17040535, 0],[-2.88795857, -0.57079803, 0],[-2.67384469, -0.1066917, 0],\n",
    "        [-2.50652679,0.65193501,0],[-2.61314272,0.02152063,0],[-2.78743398,-0.22774019,0],[-3.22520045,-0.50327991,0],[-2.64354322,1.1861949,0],\n",
    "        [-2.38386932,1.34475434,0],[-2.6225262,0.81808967,0],[-2.64832273,0.31913667,0],[-2.19907796,0.87924409,0],[-2.58734619,0.52047364,0],\n",
    "        [1.28479459, 0.68543919, 1],[0.93241075, 0.31919809, 1],[1.46406132, 0.50418983, 1],[0.18096721, -0.82560394, 1],[1.08713449, 0.07539039, 1],\n",
    "        [0.64043675, -0.41732348, 1],[1.09522371, 0.28389121, 1],[-0.75146714, -1.00110751, 1],[1.04329778, 0.22895691, 1],[-0.01019007, -0.72057487, 1],\n",
    "        [-0.5110862,-1.26249195,1],[0.51109806,-0.10228411,1],[0.26233576,-0.5478933,1],[0.98404455,-0.12436042,1],[-0.174864,-0.25181557,1],\n",
    "        [0.92757294,0.46823621,1],[0.65959279,-0.35197629,1],[0.23454059,-0.33192183,1],[0.94236171,-0.54182226,1],[0.0432464,-0.58148945,1],\n",
    "        [2.53172698, -0.01184224, 2],[1.41407223, -0.57492506, 2],[2.61648461, 0.34193529, 2],[1.97081495, -0.18112569, 2],[2.34975798, -0.04188255, 2],\n",
    "        [3.39687992, 0.54716805, 2],[0.51938325, -1.19135169, 2],[2.9320051, 0.35237701, 2],[2.31967279, -0.24554817, 2],[2.91813423, 0.78038063, 2],\n",
    "        [1.66193495,0.2420384,2],[1.80234045,-0.21615461,2],[2.16537886,0.21528028,2],[1.34459422,-0.77641543,2],[1.5852673,-0.53930705,2],\n",
    "        [1.90474358,0.11881899,2],[1.94924878,0.04073026,2],[3.48876538,1.17154454,2],[3.79468686,0.25326557,2],[1.29832982,-0.76101394,2],\n",
    "]"
   ]
  },
  {
   "cell_type": "markdown",
   "metadata": {},
   "source": [
    "先将数据集转化为逻辑分类可以处理的数据结构。即，为对象添加值为1的属性x0，将输出分类转换为one-hot编码。\n",
    "\n",
    "分类0表示为[1,0,0]，分类1表示为[0,1,0]，分类2表示为[0,0,1]"
   ]
  },
  {
   "cell_type": "code",
   "execution_count": 15,
   "metadata": {},
   "outputs": [],
   "source": [
    "# 加载数据集，最后一列最为类别标签，前面的为特征属性的值\n",
    "def loadDataSet(dataarr):\n",
    "    # 生成X和y矩阵\n",
    "    dataMat = np.mat(dataarr)\n",
    "    y = dataMat[:, dataMat.shape[1] - 1]  # 最后一列为结果列\n",
    "    b = np.ones(y.shape)  # 添加全1列向量代表b偏量\n",
    "    X = np.column_stack((b, dataMat[:, 0:dataMat.shape[1] - 1]))  # 特征属性集和b偏量组成x\n",
    "    X = np.mat(X)\n",
    "    labeltype = np.unique(y.tolist())       # 获取分类数目\n",
    "    eyes = np.eye(len(labeltype))    # 每一类用单位矩阵中对应的行代替，表示目标概率。如分类0的概率[1,0,0]，分类1的概率[0,1,0]，分类2的概率[0,0,1]\n",
    "    Y=np.zeros((X.shape[0],len(labeltype)))\n",
    "    for i in range(X.shape[0]):\n",
    "        Y[i,:] = eyes[int(y[i,0])]               # 读取分类，替换成概率向量。这就要求分类为0,1,2,3,4,5这样的整数\n",
    "    return X, y,Y       #X为特征数据集，y为分类数据集，Y为概率集"
   ]
  },
  {
   "cell_type": "markdown",
   "metadata": {},
   "source": [
    "下面我们先来看看数据是什么样的。"
   ]
  },
  {
   "cell_type": "code",
   "execution_count": 16,
   "metadata": {},
   "outputs": [],
   "source": [
    "#可视化样本数据集\n",
    "def plotDataSet():\n",
    "    dataMat,labelMat,labelPMat = loadDataSet()                        #加载数据集\n",
    "    plt.scatter(dataMat[:,1].flatten().A[0],dataMat[:,2].flatten().A[0],c=labelMat.flatten().A[0])                   #第一个偏量为b，第2个偏量x1，第3个偏量x2\n",
    "    plt.xlabel('X1'); plt.ylabel('X2')                                 #绘制label\n",
    "    plt.show()"
   ]
  },
  {
   "cell_type": "markdown",
   "metadata": {},
   "source": [
    "![这里写图片描述](https://img-blog.csdnimg.cn/img_convert/1d9ea5def2330138c4110d824c81b262.png)"
   ]
  },
  {
   "cell_type": "markdown",
   "metadata": {},
   "source": [
    "## softmax回归的梯度下降法 ##"
   ]
  },
  {
   "cell_type": "markdown",
   "metadata": {},
   "source": [
    "在softmax回归中，梯度下降法的更新公式为\n",
    "\n",
    "$w_{k+1}=w_k-\\rho  \\nabla J(w_k)=w_k-\\rho  X^T(softmax(Xw_k)-y)$\n",
    "\n",
    "按照这个公式实现代码"
   ]
  },
  {
   "cell_type": "code",
   "execution_count": 17,
   "metadata": {},
   "outputs": [],
   "source": [
    "# softmax函数，将线性回归值转化为概率的激活函数。输入s要是行向量\n",
    "def softmax(s):\n",
    "    return np.exp(s) / np.sum(np.exp(s), axis=1)\n",
    "\n",
    "# 逻辑回归中使用梯度下降法求回归系数。逻辑回归和线性回归中原理相同，只不过逻辑回归使用sigmoid作为迭代进化函数。因为逻辑回归是为了分类而生。线性回归为了预测而生\n",
    "def gradAscent(dataMat, labelPMat):\n",
    "    alpha = 0.2                                                        #移动步长,也就是学习速率,控制更新的幅度。\n",
    "    maxCycles = 1000                                                      #最大迭代次数\n",
    "    weights = np.ones((dataMat.shape[1],labelPMat.shape[1]))             #初始化权回归系数矩阵  系数矩阵的行数为特征矩阵的列数，系数矩阵的列数为分类数目\n",
    "    for k in range(maxCycles):\n",
    "        h =  softmax(dataMat*weights)                                #梯度上升矢量化公式，计算预测值（行向量）。每一个样本产生一个概率行向量\n",
    "        error = h-labelPMat                                            #计算每一个样本预测值误差\n",
    "        weights = weights - alpha * dataMat.T * error                   # 根据所有的样本产生的误差调整回归系数\n",
    "    return weights                                  "
   ]
  },
  {
   "cell_type": "markdown",
   "metadata": {},
   "source": [
    "绘制分类区域"
   ]
  },
  {
   "cell_type": "code",
   "execution_count": 18,
   "metadata": {},
   "outputs": [
    {
     "name": "stdout",
     "output_type": "stream",
     "text": [
      "[[ -0.76478209  12.94845658  -9.18367448]\n",
      " [-10.22934766  -1.38818119  14.61752885]\n",
      " [  5.38500348   5.07899946  -7.46400295]]\n"
     ]
    },
    {
     "name": "stderr",
     "output_type": "stream",
     "text": [
      "/usr/local/lib/python3.6/dist-packages/ipykernel_launcher.py:19: MatplotlibDeprecationWarning: shading='flat' when X and Y have the same dimensions as C is deprecated since 3.3.  Either specify the corners of the quadrilaterals with X and Y, or pass shading='auto', 'nearest' or 'gouraud', or set rcParams['pcolor.shading'].  This will become an error two minor releases later.\n"
     ]
    },
    {
     "data": {
      "image/png": "[encoded data removed]",
      "text/plain": [
       "<Figure size 432x288 with 1 Axes>"
      ]
     },
     "metadata": {
      "needs_background": "light"
     },
     "output_type": "display_data"
    }
   ],
   "source": [
    "# 多分类只能绘制分界区域。而不是通过分割线来可视化\n",
    "def plotBestFit(dataMat,labelMat,weights):\n",
    "\n",
    "    # 获取数据边界值，也就属性的取值范围。\n",
    "    x1_min, x1_max = dataMat[:, 1].min() - .5, dataMat[:, 1].max() + .5\n",
    "    x2_min, x2_max = dataMat[:, 2].min() - .5, dataMat[:, 2].max() + .5\n",
    "    # 产生x1和x2取值范围上的网格点，并预测每个网格点上的值。\n",
    "    step = 0.02\n",
    "    xx1, xx2 = np.meshgrid(np.arange(x1_min, x1_max, step), np.arange(x2_min, x2_max, step))\n",
    "    testMat = np.c_[xx1.ravel(), xx2.ravel()]   #形成测试特征数据集\n",
    "    testMat = np.column_stack((np.ones(((testMat.shape[0]),1)),testMat))  #添加第一列为全1代表b偏量\n",
    "    testMat = np.mat(testMat)\n",
    "    # 预测网格点上的值\n",
    "    y = softmax(testMat*weights)   #输出每个样本属于每个分类的概率\n",
    "    # 判断所属的分类\n",
    "    predicted = y.argmax(axis=1)                            #获取每行最大值的位置，位置索引就是分类\n",
    "    predicted = predicted.reshape(xx1.shape).getA()\n",
    "    # 绘制区域网格图\n",
    "    plt.pcolormesh(xx1, xx2, predicted, cmap=plt.cm.Paired)\n",
    "\n",
    "    # 再绘制一遍样本点，方便对比查看\n",
    "    plt.scatter(dataMat[:, 1].flatten().A[0], dataMat[:, 2].flatten().A[0],\n",
    "                c=labelMat.flatten().A[0],alpha=.5)  # 第一个偏量为b，第2个偏量x1，第3个偏量x2\n",
    "    plt.show()\n",
    "\n",
    "\n",
    "if __name__ == '__main__':\n",
    "\n",
    "    dataMat, labelMat,labelPMat = loadDataSet(data)  # 加载数据集\n",
    "    # 梯度下降法\n",
    "    weights = gradAscent(dataMat, labelPMat)         # 梯度下降法求回归系数\n",
    "    print(weights)\n",
    "    plotBestFit(dataMat,labelMat,weights)\n"
   ]
  },
  {
   "cell_type": "markdown",
   "metadata": {},
   "source": [
    "**权重矩阵w为**\n",
    "\n",
    "[[ -0.76478209  12.94845658  -9.18367448]\n",
    "\n",
    " [-10.22934766  -1.38818119  14.61752885]\n",
    " \n",
    " [  5.38500348   5.07899946  -7.46400295]]\n",
    "\n",
    "**绘制的分割区域为**\n",
    "\n",
    "![这里写图片描述](https://img-blog.csdnimg.cn/img_convert/b61c7de255e80866ccff4531e9c110c8.png)\n"
   ]
  },
  {
   "cell_type": "markdown",
   "metadata": {},
   "source": [
    "## softmax回归的随机梯度下降法 ##"
   ]
  },
  {
   "cell_type": "markdown",
   "metadata": {},
   "source": [
    "在softmax回归中，随机梯度下降法的更新公式为\n",
    "\n",
    "$w_{k+1}=w_k-\\rho_kx_k^T(softmax(x_kw_k)-y_k)$"
   ]
  },
  {
   "cell_type": "markdown",
   "metadata": {},
   "source": [
    "按照这个公式实现代码"
   ]
  },
  {
   "cell_type": "code",
   "execution_count": 19,
   "metadata": {},
   "outputs": [],
   "source": [
    "# 逻辑回归中使用随机梯度下降算法。numIter为迭代次数。改进之处：alpha移动步长是变化的。一次只用一个样本点去更新回归系数，这样就可以有效减少计算量了\n",
    "def stocGradAscent(dataMatrix, labelPMat, numIter=500):\n",
    "    m,n = np.shape(dataMatrix)                                                #返回dataMatrix的大小。m为样本对象的数目,n为列数。\n",
    "    weights = np.ones((n,labelPMat.shape[1]))                                                  #参数初始化\n",
    "    for j in range(numIter):\n",
    "        for k in range(m):                                                    # 遍历m个样本对象\n",
    "            alpha = 2/(1.0+j+k)+0.01                                          #降低alpha的大小，每次减小1/(j+i)。刚开始的时候可以步长大一点，后面调整越精细\n",
    "            h = softmax(dataMatrix[k]*weights)                        #选择随机选取的一个样本，计算预测值h\n",
    "            error = h-labelPMat[k]                              #计算一个样本的误差\n",
    "            weights = weights - alpha * dataMatrix[k].T*error         #更新回归系数\n",
    "    return weights.getA()                                                           #将矩阵转换为数组，返回回归系数数组"
   ]
  },
  {
   "cell_type": "markdown",
   "metadata": {},
   "source": [
    "绘制分割区域"
   ]
  },
  {
   "cell_type": "code",
   "execution_count": 20,
   "metadata": {},
   "outputs": [
    {
     "name": "stdout",
     "output_type": "stream",
     "text": [
      "[[ 0.47984299  5.90667081 -3.3865138 ]\n",
      " [-4.05158015  0.15033584  6.90124431]\n",
      " [ 3.70276223  2.36204289 -3.06480512]]\n"
     ]
    },
    {
     "name": "stderr",
     "output_type": "stream",
     "text": [
      "/usr/local/lib/python3.6/dist-packages/ipykernel_launcher.py:19: MatplotlibDeprecationWarning: shading='flat' when X and Y have the same dimensions as C is deprecated since 3.3.  Either specify the corners of the quadrilaterals with X and Y, or pass shading='auto', 'nearest' or 'gouraud', or set rcParams['pcolor.shading'].  This will become an error two minor releases later.\n"
     ]
    },
    {
     "data": {
      "image/png": "[encoded data removed]",
      "text/plain": [
       "<Figure size 432x288 with 1 Axes>"
      ]
     },
     "metadata": {
      "needs_background": "light"
     },
     "output_type": "display_data"
    }
   ],
   "source": [
    "if __name__ == '__main__':\n",
    "\n",
    "    dataMat, labelMat,labelPMat = loadDataSet(data)  # 加载数据集\n",
    "    # 梯度下降法\n",
    "    weights = stocGradAscent(dataMat, labelPMat)         # 梯度下降法求回归系数\n",
    "    print(weights)\n",
    "    plotBestFit(dataMat,labelMat,weights)"
   ]
  },
  {
   "cell_type": "markdown",
   "metadata": {},
   "source": [
    "**得到的权重矩阵w为**\n",
    "\n",
    "[[ -0.86015701   4.56667081  -4.7265138 ]\n",
    "\n",
    " [ -0.4547426    3.74717339  10.49808187]\n",
    " \n",
    " [  3.26510843   1.9243891   -3.50245892]]\n",
    "\n",
    "**分割区域为**\n",
    "\n",
    "![这里写图片描述](https://img-blog.csdnimg.cn/img_convert/0d8aeed4f07c29dd116f28942963e95e.png)"
   ]
  },
  {
   "cell_type": "markdown",
   "metadata": {},
   "source": [
    "## 对新对象进行预测 ##\n",
    "\n",
    "有了回归系数矩阵，就可以对softmax回归问题进行多分类了。"
   ]
  },
  {
   "cell_type": "code",
   "execution_count": 21,
   "metadata": {},
   "outputs": [
    {
     "name": "stdout",
     "output_type": "stream",
     "text": [
      "[[ -0.76478209  12.94845658  -9.18367448]\n",
      " [-10.22934766  -1.38818119  14.61752885]\n",
      " [  5.38500348   5.07899946  -7.46400295]]\n",
      "[[2]] [[5.82158495e-17 1.04332831e-03 9.98956672e-01]]\n"
     ]
    }
   ],
   "source": [
    "# 对新对象进行预测\n",
    "def predict(weights,testdata):\n",
    "    testdata.insert(0, 1.0)    #现在首部添加1代表b偏量\n",
    "    testMat = np.mat([testdata])\n",
    "    y=softmax(testMat * np.mat(weights))\n",
    "    type = y.argmax(axis=1)   # 概率最大的分类就是预测分类。由于输出值y为行向量，所按行取最大值的位置\n",
    "    return type,y   #type为所属分类，h为属于每种分类的概率\n",
    "\n",
    "\n",
    "\n",
    "if __name__ == '__main__':\n",
    "    dataMat, labelMat, labelPMat = loadDataSet(data)   # 加载数据集\n",
    "    weights = gradAscent(dataMat, labelPMat)         # 梯度下降法求回归系数\n",
    "    # weights = gradAscent(dataMat, labelPMat)         # 梯度下降法求回归系数\n",
    "    print(weights)\n",
    "    type,h = predict(weights,[1.90474358,0.11881899])\n",
    "    print(type,h)"
   ]
  },
  {
   "cell_type": "markdown",
   "metadata": {},
   "source": [
    "**输出分类和概率为**\n",
    "\n",
    "[[2]] [[  8.81398647e-08   5.11371774e-02   9.48862734e-01]]\n",
    "\n",
    "表示输入对象[1.90474358,0.11881899]，属于分类2，因为属于分类0 的概率为8.81398647e-08，属于分类1的概率为5.11371774e-02，属于分类2的概率为 9.48862734e-01。"
   ]
  },
  {
   "cell_type": "markdown",
   "metadata": {},
   "source": [
    "# 其他方式的编码"
   ]
  },
  {
   "cell_type": "markdown",
   "metadata": {},
   "source": [
    "在逻辑回归中，二分类0和1一般要按one-hot编码成[1,0]和[0,1]。\n",
    "\n",
    "我们知道[1,0]表示的是样本对象100%的概率为分类0，0%的概率为分类1\n",
    "\n",
    "[0,1]表示的是样本对象0%的概率为分类0，100%的概率为分类1\n",
    "\n",
    "---\n",
    "\n",
    "那我们现在来尝试一下其他的概率表达方式：\n",
    "\n",
    "比如二分类中，分类0是我想要的，分类1不是我想要的。\n",
    "\n",
    "分类0的值表达成[100%]，表示100%是我想要的，\n",
    "\n",
    "分类1的值表达成[0%]，表示0%是我想要的。\n",
    "\n",
    "我们按照逻辑回归计算出来的概率值就是y只有一个值。这个值表达的是，是我想要的分类的概率，也就是该对象是分类0的概率。这个概率超过50%，我们就可以把他划分为分类0，低于50%，我们就可以划分为分类1。\n"
   ]
  },
  {
   "cell_type": "markdown",
   "metadata": {},
   "source": [
    "由于我们使用这种方式进行编码，只计算一个输出值，\n",
    "所以要计算的回归系数矩阵，就变成了\n",
    "\n",
    "$$\n",
    "        \\begin{matrix}\n",
    "        w0   \\\\\n",
    "        w1  \\\\\n",
    "        w2 \\\\\n",
    "        \\end{matrix}\n",
    "$$\n",
    "\n",
    "而不再是\n",
    "\n",
    "$$\n",
    "        \\begin{matrix}\n",
    "        w00 & w01  \\\\\n",
    "        w10 & w11  \\\\\n",
    "        w20 & w21  \\\\\n",
    "        \\end{matrix}\n",
    "$$\n"
   ]
  },
  {
   "cell_type": "markdown",
   "metadata": {},
   "source": [
    "实现代码为"
   ]
  },
  {
   "cell_type": "code",
   "execution_count": 23,
   "metadata": {},
   "outputs": [
    {
     "name": "stdout",
     "output_type": "stream",
     "text": [
      "[[-25.33705122]\n",
      " [ -3.97390641]\n",
      " [  3.60147525]]\n",
      "1 [[1.]]\n"
     ]
    },
    {
     "data": {
      "image/png": "[encoded data removed]",
      "text/plain": [
       "<Figure size 432x288 with 1 Axes>"
      ]
     },
     "metadata": {
      "needs_background": "light"
     },
     "output_type": "display_data"
    }
   ],
   "source": [
    "import matplotlib.pyplot as plt\n",
    "import numpy as np\n",
    "import random\n",
    "\n",
    "\n",
    "# 样本数据集，第一列为x1，第二列为x2，第三列为分类（二种类别）,必须用0和1表示分类\n",
    "data=[\n",
    "    [-0.017612, 14.053064, 0],[-0.752157, 6.538620, 0],[-1.322371, 7.152853, 0],[0.423363, 11.054677, 0],[0.569411, 9.548755, 0],\n",
    "    [-0.026632, 10.427743, 0],[0.667394, 12.741452, 0],[1.347183, 13.175500, 0],[1.217916, 9.597015, 0],[-0.733928, 9.098687, 0],\n",
    "    [1.416614, 9.619232, 0],[1.388610, 9.341997, 0],[0.317029, 14.739025, 0],[-0.576525, 11.778922, 0],[-1.781871, 9.097953, 0],\n",
    "    [-1.395634, 4.662541, 1],[0.406704, 7.067335, 1],[-2.460150, 2.866805, 1],[0.850433, 6.920334, 1],[1.176813, 3.167020, 1],\n",
    "    [-0.566606, 5.749003, 1],[0.931635, 1.589505, 1],[-0.024205, 6.151823, 1],[-0.036453, 2.690988, 1],[-0.196949, 0.444165, 1],\n",
    "    [1.014459, 5.754399, 1],[1.985298, 3.230619, 1],[-1.693453, -0.557540, 1],[-0.346811, -1.678730, 1],[-2.124484, 2.672471, 1]\n",
    "]\n",
    "\n",
    "\n",
    "#加载数据集，最后一列最为类别标签，前面的为特征属性的值\n",
    "def loadDataSet(datasrc):\n",
    "    dataMat = np.mat(datasrc)\n",
    "    y = dataMat[:, dataMat.shape[1] - 1]  # 最后一列为结果列\n",
    "    b = np.ones(y.shape)  # 添加全1列向量代表b偏量\n",
    "    X = np.column_stack((b, dataMat[:, 0:dataMat.shape[1] - 1]))  # 特征属性集和b偏量组成x\n",
    "    X = np.mat(X)\n",
    "    for i in range(y.shape[0]):\n",
    "        if y[i]==1:y[i]=0.0             # 分类1不是我想要的分类，所以概率写成0.0\n",
    "        elif y[i] == 0: y[i] = 1.0     # 分类0是我想要的分类，所以概率写成1.0\n",
    "    y=np.mat(y)\n",
    "    return X, y  # X为特征数据集，y为分类数据集，Y为概率集\n",
    "\n",
    "\n",
    "\n",
    "#可视化样本数据集\n",
    "def plotDataSet():\n",
    "    dataMat,labelMat,labelPMat = loadDataSet(data)                        #加载数据集\n",
    "    plt.scatter(dataMat[:,1].flatten().A[0],dataMat[:,2].flatten().A[0],c=labelMat.flatten().A[0])                   #第一个偏量为b，第2个偏量x1，第3个偏量x2\n",
    "    plt.xlabel('X1'); plt.ylabel('X2')                                 #绘制label\n",
    "    plt.xlim([-3,3])\n",
    "    plt.ylim([-4,16])\n",
    "    plt.show()\n",
    "\n",
    "# sigmoid函数，逻辑回归函数，将线性回归值转化为概率的激活函数\n",
    "def sigmoid(x):\n",
    "    return 1.0 / (1 + np.exp(-x))\n",
    "\n",
    "# 逻辑回归中使用梯度下降法求回归系数。逻辑回归和线性回归中原理相同，只不过逻辑回归使用sigmoid作为迭代进化函数。因为逻辑回归是为了分类而生。线性回归为了预测而生\n",
    "def gradAscent(dataMat, labelPMat):\n",
    "    m, n = np.shape(dataMat)                                            #返回dataMatrix的大小。m为行数,n为列数。\n",
    "    alpha = 0.05                                                        #移动步长,也就是学习速率,控制更新的幅度。\n",
    "    maxCycles = 1000                                                      #最大迭代次数\n",
    "    weights = np.ones((n,1))                                             #初始化权重列向量\n",
    "    for k in range(maxCycles):\n",
    "        h =  sigmoid(dataMat * weights)                                #梯度上升矢量化公式，计算预测值（列向量）。每一个样本产生一个预测值\n",
    "        error = h-labelPMat                                            #计算每一个样本预测值误差\n",
    "        weights = weights - alpha * dataMat.T * error                   # 根据所有的样本产生的误差调整回归系数\n",
    "    return weights.getA()                                               # 将矩阵转换为数组，返回回归系数数组\n",
    "\n",
    "# 逻辑回归中使用随机梯度下降算法。numIter为迭代次数。改进之处：alpha移动步长是变化的。一次只用一个样本点去更新回归系数，这样就可以有效减少计算量了\n",
    "def stocGradAscent(dataMatrix, labelMat, numIter=500):\n",
    "    m,n = np.shape(dataMatrix)                                                #返回dataMatrix的大小。m为样本对象的数目,n为列数。\n",
    "    weights = np.ones((n,1))                                                  #参数初始化\n",
    "    for j in range(numIter):\n",
    "        for k in range(m):                                                    # 遍历m个样本对象\n",
    "            alpha = 10/(1.0+j+k)+0.01                                          #降低alpha的大小，每次减小1/(j+i)。刚开始的时候可以步长大一点，后面调整越精细\n",
    "            h = sigmoid(dataMatrix[k]*weights)                        #选择随机选取的一个样本，计算预测值h\n",
    "            error = h-labelMat[k]                              #计算一个样本的误差\n",
    "            weights = weights - alpha * dataMatrix[k].T*error         #更新回归系数\n",
    "    return weights.getA()                                                           #将矩阵转换为数组，返回回归系数数组\n",
    "\n",
    "\n",
    "# 对新对象进行预测\n",
    "def predict1(weights,testdata):\n",
    "    testdata.insert(0, 1.0)       #现在首部添加1代表b偏量\n",
    "    testMat = np.mat([testdata])\n",
    "    z = testMat * np.mat(weights)\n",
    "    y=sigmoid(z)\n",
    "    if y>0.5:\n",
    "    # if z>0:    #h>0.5的判断等价于  z>0\n",
    "        return 1,y\n",
    "    else:\n",
    "        return 0,y\n",
    "\n",
    "\n",
    "\n",
    "# 绘制分界线。\n",
    "def plotBestFit(dataMat,labelMat,weights):\n",
    "    plt.scatter(dataMat[:, 1].flatten().A[0], dataMat[:, 2].flatten().A[0],\n",
    "                c=labelMat.flatten().A[0],alpha=.5)  # 第一个偏量为b，第2个偏量x1，第3个偏量x2\n",
    "\n",
    "    x1 = np.arange(-4.0, 4.0, 0.1)\n",
    "    x2 = (-weights[0] - weights[1] * x1) / weights[2]    # 逻辑回归获取的回归系数，满足w0+w1*x1+w2*x2=0，即x2 =(-w0-w1*x1)/w2\n",
    "    plt.plot(x1, x2)\n",
    "    plt.xlabel('X1'); plt.ylabel('X2')                                    #绘制label\n",
    "    plt.show()\n",
    "\n",
    "\n",
    "\n",
    "if __name__ == '__main__':\n",
    "    # 查看数据集的分布\n",
    "    # plotDataSet()\n",
    "\n",
    "    dataMat, labelMat = loadDataSet(data)   # 加载数据集\n",
    "    weights = gradAscent(dataMat, labelMat)         # 梯度下降法求回归系数\n",
    "    # weights = stocGradAscent(dataMat, labelMat)    # 局部梯度下降法求回归系数\n",
    "    print(weights)\n",
    "    type,y = predict1(weights,[0.317029,14.739025])\n",
    "    print(type,y)\n",
    "    plotBestFit(dataMat,labelMat,weights)"
   ]
  },
  {
   "cell_type": "markdown",
   "metadata": {},
   "source": [
    "**运行函数得到的回归系数为**\n",
    "\n",
    "[[-23.98429667]\n",
    "\n",
    " [ -3.8623706 ]\n",
    " \n",
    " [  3.36581925]]\n",
    "\n",
    "这个回归系数矩阵表达式是y=sigmoid(xw)中的w。\n",
    "\n",
    "我们通过y>0.5进行分类判别。由于sigmoid是调单递增的。所以判别也就等价于xw>0。\n",
    "\n",
    "将这个公式展开。\n",
    "\n",
    "$1*w0+x1*w1+x2*w2>0$\n",
    "\n",
    "将训练迭代的系数带入公式，\n",
    "\n",
    "$1*-23.98429667+x1*-3.8623706+x2*3.36581925>0$\n",
    "\n",
    "**下图绘制出了这条边界线。**\n",
    "\n",
    "![这里写图片描述](https://img-blog.csdnimg.cn/img_convert/d1c6255c5fffd835fcdef874f68de957.png)\n"
   ]
  },
  {
   "cell_type": "markdown",
   "metadata": {},
   "source": [
    "逻辑回归LR的特征为什么要先离散化\n",
    "-----------------\n",
    "在工业界，很少直接将连续值作为特征喂给逻辑回归模型，而是将连续特征离散化为一系列0、1特征交给逻辑回归模型，这样做的优势有以下几点：\n",
    "\n",
    "0、离散特征的增加和减少都很容易，易于模型的快速迭代；\n",
    "\n",
    "1、稀疏向量内积乘法运算速度快，计算结果方便存储，容易扩展；\n",
    "\n",
    "2、离散化后的特征对异常数据有很强的鲁棒性：比如一个特征是年龄>30是1，否则0。如果特征没有离散化，一个异常数据“年龄300岁”会给模型造成很大的干扰；\n",
    "\n",
    "3、逻辑回归属于广义线性模型，表达能力受限；单变量离散化为N个后，每个变量有单独的权重，相当于为模型引入了非线性，能够提升模型表达能力，加大拟合；\n",
    "\n",
    "4、离散化后可以进行特征交叉，由M+N个变量变为M*N个变量，进一步引入非线性，提升表达能力；\n",
    "\n",
    "5、特征离散化后，模型会更稳定，比如如果对用户年龄离散化，20-30作为一个区间，不会因为一个用户年龄长了一岁就变成一个完全不同的人。当然处于区间相邻处的样本会刚好相反，所以怎么划分区间是门学问；\n",
    "\n",
    "6、特征离散化以后，起到了简化了逻辑回归模型的作用，降低了模型过拟合的风险。"
   ]
  },
  {
   "cell_type": "markdown",
   "metadata": {},
   "source": [
    "```\n",
    "李沐少帅指出，模型是使用离散特征还是连续特征，其实是一个“海量离散特征+简单模型” 同 “少量连续特征+复杂模型”的权衡。\n",
    "\n",
    "既可以离散化用线性模型，也可以用连续特征加深度学习。就看是喜欢折腾特征还是折腾模型了。\n",
    "\n",
    "通常来说，前者容易，而且可以n个人一起并行做，有成功经验；后者目前看很赞，能走多远还须拭目以待。\n",
    "```"
   ]
  },
  {
   "cell_type": "markdown",
   "metadata": {},
   "source": [
    "大概的理解：\n",
    "\n",
    "1）计算简单\n",
    "\n",
    "2）简化模型\n",
    "\n",
    "3）增强模型的泛化能力，不易受噪声的影响"
   ]
  },
  {
   "cell_type": "markdown",
   "metadata": {},
   "source": [
    "# 并行LR的实现"
   ]
  },
  {
   "cell_type": "markdown",
   "metadata": {},
   "source": [
    "由逻辑回归问题的求解方法中可以看出，无论是梯度下降法、牛顿法、拟牛顿法，计算梯度都是其最基本的步骤，并且L-BFGS通过两步循环计算牛顿方向的方法，避免了计算海森矩阵。\n",
    "\n",
    "因此逻辑回归的并行化最主要的就是对目标函数梯度计算的并行化。\n",
    "\n",
    "从公式(2)中可以看出，目标函数的梯度向量计算中只需要进行向量间的点乘和相加，可以很容易将每个迭代过程拆分成相互独立的计算步骤，由不同的节点进行独立计算，然后归并计算结果。\n"
   ]
  },
  {
   "cell_type": "markdown",
   "metadata": {},
   "source": [
    "将M个样本的标签构成一个M维的标签向量，M个N维特征向量构成一个M*N的样本矩阵"
   ]
  },
  {
   "cell_type": "markdown",
   "metadata": {},
   "source": [
    "如果将样本矩阵按行划分，将样本特征向量分布到不同的计算节点，由各计算节点完成自己所负责样本的点乘与求和计算，然后将计算结果进行归并，则实现了“按行并行的LR”。\n",
    "\n",
    "按行并行的LR解决了样本数量的问题，但是实际情况中会存在针对高维特征向量进行逻辑回归的场景（如广告系统中的特征维度高达上亿），仅仅按行进行并行处理，无法满足这类场景的需求，因此还需要按列将高维的特征向量拆分成若干小的向量进行求解。"
   ]
  }
 ],
 "metadata": {
  "kernelspec": {
   "display_name": "Python 3",
   "language": "python",
   "name": "python3"
  },
  "language_info": {
   "codemirror_mode": {
    "name": "ipython",
    "version": 3
   },
   "file_extension": ".py",
   "mimetype": "text/x-python",
   "name": "python",
   "nbconvert_exporter": "python",
   "pygments_lexer": "ipython3",
   "version": "3.6.9"
  }
 },
 "nbformat": 4,
 "nbformat_minor": 4
}
