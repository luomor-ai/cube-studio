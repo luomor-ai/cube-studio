{
 "cells": [
  {
   "cell_type": "markdown",
   "metadata": {},
   "source": [
    "线性回归案例\n",
    "--\n",
    "在学习线性回归以及今后的逻辑回归和神经网络必然用到库numpy，在numpy中存在array和matrix两种数据结构。\n",
    "\n",
    "1. 当为array的时候，默认d*f就是对应元素的乘积，multiply也是对应元素的乘积，dot（d,f）会转化为矩阵的乘积， dot点乘意味着相加，而multiply只是对应元素相乘，不相加。\n",
    "\n",
    "2. 当为mat的时候，默认d*f就是矩阵的乘积，multiply转化为对应元素的乘积，dot（d,f）为矩阵的乘积\n"
   ]
  },
  {
   "cell_type": "markdown",
   "metadata": {},
   "source": [
    "# 一、单变量的线性回归\n",
    "\n",
    "\n",
    "在本案例中，样本数据集每行为一个对象。对象属性只有一个x，对象预测值也只有一个y。\n",
    "\n",
    "**1、加载数据集**\n",
    "\n",
    "先构造一个简单的一维数据集，x和y近乎服从线性分布。第一列为第一个特征属性，即x数据，第二列为输出结果，即y数据（要预测的值）\n"
   ]
  },
  {
   "cell_type": "markdown",
   "metadata": {},
   "source": [
    "```\n",
    "0.067732\t3.176513\n",
    "0.427810\t3.816464\n",
    "0.995731\t4.550095\n",
    "0.738336\t4.256571\n",
    "0.981083\t4.560815\n",
    "0.526171\t3.929515\n",
    "0.378887\t3.526170\n",
    "0.033859\t3.156393\n",
    "0.132791\t3.110301\n",
    "0.138306\t3.149813\n",
    "0.247809\t3.476346\n",
    "0.648270\t4.119688\n",
    "0.731209\t4.282233\n",
    "0.236833\t3.486582\n",
    "0.969788\t4.655492\n",
    "0.607492\t3.965162\n",
    "0.358622\t3.514900\n",
    "0.147846\t3.125947\n",
    "0.637820\t4.094115\n",
    "0.230372\t3.476039\n",
    "0.070237\t3.210610\n",
    "0.067154\t3.190612\n",
    "0.925577\t4.631504\n",
    "0.717733\t4.295890\n",
    "0.015371\t3.085028\n",
    "0.335070\t3.448080\n",
    "0.040486\t3.167440\n",
    "0.212575\t3.364266\n",
    "0.617218\t3.993482\n",
    "0.541196\t3.891471\n",
    "```"
   ]
  },
  {
   "cell_type": "markdown",
   "metadata": {},
   "source": [
    "我们知道使用y=xw进行计算时，其实是将偏量b算入了w中，为x添加了一个属性，值为1。\n",
    "\n",
    "因此在下面的数据集加载函数loadDataSet中，我们为样本数据第一列添加了一个值为1的属性。"
   ]
  },
  {
   "cell_type": "code",
   "execution_count": 1,
   "metadata": {},
   "outputs": [],
   "source": [
    "import matplotlib.pyplot as plt\n",
    "import numpy as np\n",
    "\n",
    "#加载数据集，最后一列最为目标值，前面的为特征属性的值\n",
    "def loadDataSet(fileName):\n",
    "    xArr = []; yArr = []\n",
    "    for line in open(fileName).readlines():\n",
    "        curLine = line.strip().split('\\t')\n",
    "        xonerow = [1.0]   #添加1.0作为第一个系数，则第一个系数的权重用来代表y=wx+b中的b变量\n",
    "        for i in range(len(curLine)-1):\n",
    "            xonerow.append(float(curLine[i]))  #最后一列为输出结果值y，前面的值为输入x值\n",
    "        xArr.append(xonerow)\n",
    "        yArr.append(float(curLine[-1]))  #添加最后一列为结果值\n",
    "\n",
    "    return xArr, yArr"
   ]
  },
  {
   "cell_type": "markdown",
   "metadata": {},
   "source": [
    "使用可视化查看一下x-y的分布。"
   ]
  },
  {
   "cell_type": "code",
   "execution_count": 3,
   "metadata": {},
   "outputs": [
    {
     "data": {
      "image/png": "[encoded data removed]",
      "text/plain": [
       "<Figure size 432x288 with 1 Axes>"
      ]
     },
     "metadata": {
      "needs_background": "light"
     },
     "output_type": "display_data"
    }
   ],
   "source": [
    "#绘制二维数据集\n",
    "def plotDataSet():\n",
    "    xArr, yArr = loadDataSet('data.txt')                                #加载数据集\n",
    "    xcord = [xArr[i][1] for i in range(len(xArr))]\n",
    "    ycord = [yArr[i] for i in range(len(yArr))]                         #样本点\n",
    "    fig = plt.figure()\n",
    "    ax = fig.add_subplot(111)                                            #添加subplot\n",
    "    ax.scatter(xcord, ycord, s = 20, c = 'blue',alpha = .5)                #绘制样本点\n",
    "    plt.xlabel('X');plt.ylabel('Y')\n",
    "    plt.show()\n",
    "\n",
    "if __name__ == '__main__':\n",
    "    plotDataSet()"
   ]
  },
  {
   "cell_type": "markdown",
   "metadata": {},
   "source": [
    "![这里写图片描述](https://img-blog.csdnimg.cn/img_convert/aad748b9995915c93c04f6cc8eb31c4b.png)"
   ]
  },
  {
   "cell_type": "markdown",
   "metadata": {},
   "source": [
    "**2、获取线性回归模型**\n",
    "\n",
    "**最小二乘方法**\n",
    "\n",
    "我们知道使用下面的公式直接计算权重矩阵。\n",
    "\n",
    "$w=(X^TX)^{-1}X^Ty$\n",
    "\n",
    "代码实现如下。\n",
    "\n",
    "standRegres函数根据输入输出，计算回归系数w。"
   ]
  },
  {
   "cell_type": "code",
   "execution_count": 4,
   "metadata": {},
   "outputs": [],
   "source": [
    "#最小二乘法计算回归系数。xArr为样本数据集，包含m个对象，n种属性。yarr为结果数据集\n",
    "def standRegres(xArr,yArr):\n",
    "    xMat = np.mat(xArr)       #转化为x矩阵。自动形成m行n列\n",
    "    yMat = np.mat(yArr).reshape(len(yArr),1)     #转化为y列向量\n",
    "    xTx = xMat.T * xMat       #根据文中推导的公示计算回归系数\n",
    "    if np.linalg.det(xTx) == 0.0:   #对不能求逆的结果返回\n",
    "        print(\"矩阵为奇异矩阵,不能求逆\")\n",
    "        return\n",
    "    ws = xTx.I * (xMat.T*yMat)  #最小二乘求导出为0时的权重向量\n",
    "    return ws"
   ]
  },
  {
   "cell_type": "markdown",
   "metadata": {},
   "source": [
    "我们来调用一下这个函数，来试试求解w。\n",
    "\n",
    "plotRegression函数先求解了回归系数w，然后绘制样本数据集点，又绘制了w系数（所谓绘制w就是绘制w所代表的直线）"
   ]
  },
  {
   "cell_type": "code",
   "execution_count": 5,
   "metadata": {},
   "outputs": [
    {
     "name": "stdout",
     "output_type": "stream",
     "text": [
      "[[3.02863046]\n",
      " [1.6314263 ]]\n"
     ]
    },
    {
     "data": {
      "image/png": "[encoded data removed]",
      "text/plain": [
       "<Figure size 432x288 with 1 Axes>"
      ]
     },
     "metadata": {
      "needs_background": "light"
     },
     "output_type": "display_data"
    }
   ],
   "source": [
    "# 绘制样本数据集，求解回归曲线，绘制回归曲线。regression为计算回归系数的函数\n",
    "def plotRegression(regression):\n",
    "    # 计算回归系数\n",
    "    xArr, yArr = loadDataSet('data.txt')                                    #加载数据集\n",
    "    ws = regression(xArr, yArr)                                           #计算回归系数列向量\n",
    "    print(ws)\n",
    "\n",
    "    xMat = np.mat(xArr)                                                    #创建xMat矩阵\n",
    "    yMat = np.mat(yArr)                                                    #创建yMat矩阵（行向量）\n",
    "\n",
    "    # 绘制样本数据集\n",
    "    xarr = xMat[:, 1].flatten().A[0]  # 将矩阵第一列转化为一行矩阵，并获取第一行的列表\n",
    "    yarr = yMat.flatten().A[0]  # 将矩阵第一列转化为一行矩阵，并获取第一行的行向量\n",
    "    plt.scatter(xarr, yarr, s=20, c='blue', alpha=.5)  # 绘制样本点\n",
    "\n",
    "    # 绘制回归系数。通过两个待测点，预测其值。以直线的形式反映出回归系数。\n",
    "    testArr = np.array([[1,0],[1,1]])                                        #将对象[1,0]和对象[1,1]最为待测对象，第一个1为常值代表偏量，后面的分量代表属性x的值\n",
    "    yHat = np.dot(testArr,ws)                                                      #计算使用线性模型预测的y值。dot就是矩阵乘法。\n",
    "    plt.plot(testArr[:,1], yHat, c = 'red')                                #绘制回归曲线，x为第1列，y为结果列向量，\n",
    "    plt.xlabel('X');plt.ylabel('Y')\n",
    "    plt.show()\n",
    "\n",
    "if __name__ == '__main__':\n",
    "    plotRegression(standRegres)"
   ]
  },
  {
   "cell_type": "markdown",
   "metadata": {},
   "source": [
    "![这里写图片描述](https://img-blog.csdnimg.cn/img_convert/faeaa1934abb28737a3e0af235ada6b6.png)\n",
    "\n",
    "输出结果为\n",
    "[[ 3.02863046]\n",
    "\n",
    " [ 1.6314263 ]]\n",
    "\n",
    "即线性模型为**y=3.02+1.63*x**\n",
    "\n",
    "图中的直线就是w的图形表示。也就是y=3.02+1.63*x这条直线。"
   ]
  },
  {
   "cell_type": "markdown",
   "metadata": {},
   "source": [
    "**梯度下降法**\n",
    "\n",
    "根据上面的公式w的梯度为\n",
    "\n",
    "$\\nabla J(w)=2X^T(Xw-y)$\n",
    "\n",
    "梯度下降法的更新公式为\n",
    "\n",
    "$w_{k+1}=w_k-\\rho\\nabla J(w_k)$\n",
    "\n",
    "用python实现上面的公式"
   ]
  },
  {
   "cell_type": "code",
   "execution_count": 6,
   "metadata": {},
   "outputs": [],
   "source": [
    "#梯度下降法计算回归系数。xArr为属性数据集，每行为一个对象。yArr为结果数据集，每行为一个对象的结果。\n",
    "def gradAscent(xArr,yArr):\n",
    "    xMatrix = np.mat(xArr)                                        #转换成numpy的矩阵。xMatrix每行为一个对象，每列为一种特征属性\n",
    "    yMatrix = np.mat(yArr).reshape(len(yArr),1)            #转换成numpy的矩阵,并变维成列向量\n",
    "    m, n = np.shape(xMatrix)                                            #返回dataMatrix的大小。m为样本对象的个数,n为列数。\n",
    "    alpha = 0.001                                                        #移动步长,也就是学习速率,控制更新的幅度。\n",
    "    maxCycles = 500                                                      #最大迭代次数\n",
    "    weights = np.ones((n,1))                                             #初始化权重列向量\n",
    "    for k in range(maxCycles):\n",
    "        h =  xMatrix * weights                               #梯度上升矢量化公式，计算预测值（列向量）\n",
    "        error = h - yMatrix                                            #计算误差\n",
    "        weights = weights - alpha * 2 * xMatrix.T * error                 # 调整回归系数\n",
    "    return weights.getA()                                                #将矩阵转换为数组，返回权重数组"
   ]
  },
  {
   "cell_type": "markdown",
   "metadata": {},
   "source": [
    "我们来调用一下上面的梯度下降法，试试求解回归系数w。\n",
    "\n",
    "仍然使用上面的plotRegression函数"
   ]
  },
  {
   "cell_type": "code",
   "execution_count": 7,
   "metadata": {},
   "outputs": [
    {
     "name": "stdout",
     "output_type": "stream",
     "text": [
      "[[3.01830318]\n",
      " [1.65370732]]\n"
     ]
    },
    {
     "data": {
      "image/png": "[encoded data removed]",
      "text/plain": [
       "<Figure size 432x288 with 1 Axes>"
      ]
     },
     "metadata": {
      "needs_background": "light"
     },
     "output_type": "display_data"
    }
   ],
   "source": [
    "if __name__ == '__main__':\n",
    "    plotRegression(gradAscent)"
   ]
  },
  {
   "cell_type": "markdown",
   "metadata": {},
   "source": [
    "![这里写图片描述](https://img-blog.csdnimg.cn/img_convert/37c0a60d2a8c9518a48e30fde89bcb96.png)\n",
    "\n",
    "输出结果为\n",
    "[[ 3.01830318]\n",
    "\n",
    " [ 1.65370732]]\n",
    " \n",
    "即线性模型为**y=3.02+1.65*x**\n",
    "\n",
    "结果与使用最小二乘法获得的线性模型基本一致。"
   ]
  },
  {
   "cell_type": "markdown",
   "metadata": {},
   "source": [
    "**随机梯度下降法求解回归系数**\n",
    "\n",
    "根据前面理论部分的推导我们知道随机梯度下降法\n",
    "\n",
    "$w_{k+1}=w_k-2*\\rho_kx_k^T(x_kw_k-y_k)$\n",
    "\n",
    "（其中$x_k$为第k个样本对象，为行向量。$y_k$为该对象产生的预测输出数值。$w_k$为迭代第k次产生的权重列向量w，当对新的一行对象进行预测时，总是使用最新的w。）\n",
    "\n",
    "其中学习速率$\\rho_k$要满足，具体取什么值呢，其实并没有规定。\n",
    "\n",
    "$\\displaystyle\\sum_{k=1}^{\\infty} \\rho_k \\to\\infty$\n",
    "\n",
    "$\\displaystyle\\sum_{k=1}^{\\infty} \\rho_k^2 < \\infty$\n",
    "\n",
    "学习速率大，会不收敛，学习速率小会收敛慢，所以这是个尝试的过程。\n",
    "\n",
    "在随机梯度中，我们使用如下的形式。i为第几次迭代，k为迭代到第几行数据了。\n",
    "\n",
    "$ \\rho_k =\\frac{4}{(1.0 + i + k)}  + 0.01$\n",
    "\n",
    "实现代码"
   ]
  },
  {
   "cell_type": "code",
   "execution_count": 8,
   "metadata": {},
   "outputs": [],
   "source": [
    "#随机梯度下降法计算回归系数\n",
    "def randgradAscent(xArr,yArr):\n",
    "    xMatrix = np.mat(xArr)                                        #转换成numpy的矩阵。xMatrix每行为一个对象，每列为一种特征属性\n",
    "    yMatrix = np.mat(yArr).reshape(len(yArr),1)                   #转换成numpy的矩阵,并变维成列向量\n",
    "    m, n = np.shape(xMatrix)                                            #返回dataMatrix的大小。m为样本对象的个数,n为列数。\n",
    "    maxCycles = 100                                                      #最大迭代次数\n",
    "    weights = np.ones((n,1))                                             #初始化权重列向量\n",
    "    for i in range(maxCycles):\n",
    "        for k in range(m):\n",
    "            alpha = 4 / (1.0 + i + k) + 0.01                       # 降低alpha的大小，每次减小1/(j+i)。刚开始的时候可以步长大一点，后面调整越精细\n",
    "            h =  xMatrix[k] * weights                                      #随机梯度上升矢量化公式，计算预测值y\n",
    "            error = h - yMatrix[k]                                            #计算误差\n",
    "            weights = weights - 2*alpha * xMatrix[k].T * error                 # 调整回归系数\n",
    "    return weights.getA()          "
   ]
  },
  {
   "cell_type": "markdown",
   "metadata": {},
   "source": [
    "同样进行计算绘制"
   ]
  },
  {
   "cell_type": "code",
   "execution_count": 9,
   "metadata": {},
   "outputs": [
    {
     "name": "stdout",
     "output_type": "stream",
     "text": [
      "[[3.03501804]\n",
      " [1.62654039]]\n"
     ]
    },
    {
     "data": {
      "image/png": "[encoded data removed]",
      "text/plain": [
       "<Figure size 432x288 with 1 Axes>"
      ]
     },
     "metadata": {
      "needs_background": "light"
     },
     "output_type": "display_data"
    }
   ],
   "source": [
    "if __name__ == '__main__':\n",
    "    plotRegression(randgradAscent)"
   ]
  },
  {
   "cell_type": "markdown",
   "metadata": {},
   "source": [
    "![这里写图片描述](https://img-blog.csdnimg.cn/img_convert/3fd54226f412637fec822e20b6ba326c.png)\n",
    "\n",
    "得到的结果为\n",
    "\n",
    "[[ 3.03501804]\n",
    "\n",
    " [ 1.62654039]]\n",
    "\n",
    "即线性模型为**y=3.03+1.62*x**\n",
    "\n",
    "结果与使用最小二乘法获得的线性模型基本一致。"
   ]
  },
  {
   "cell_type": "markdown",
   "metadata": {},
   "source": [
    "----------\n",
    "\n",
    "\n",
    "\n",
    "# 拟合：拟合模型/函数\n",
    "\n",
    "\n",
    "在学习后面的内容前，我们先来了解一下拟合问题。\n",
    "\n",
    "一个模型在训练数据上能够获得比其他模型更好的拟合， 但是在训练数据外的数据集上却不能很好地拟合数据，此时认为这个模型出现了过拟合的现象。\n",
    "\n",
    "出现这种现象的主要原因是训练数据中存在噪音或者训练数据太少。\n",
    "\n",
    "例如下图\n",
    "\n",
    "![这里写图片描述](https://img-blog.csdnimg.cn/img_convert/e1354c9412c537c21203ffe00141dd7f.png)\n"
   ]
  },
  {
   "cell_type": "markdown",
   "metadata": {},
   "source": [
    "可以看出当样本数较少时，如图中a，我们建立的分类模型会如a中所示，虽然完全的拟合了样本数据，但是当数据集增大时，如b图中所示，测试数据分类准确度很差。\n",
    "\n",
    "这就是过拟合现象。"
   ]
  },
  {
   "cell_type": "markdown",
   "metadata": {},
   "source": [
    "正确的建模应该如c中所示，虽然没有完全拟合样本数据，但在对于测试数据的分类准确度却很高，如图d。\n",
    "\n",
    "过拟合问题往往是由于训练数据少、样本噪声等原因造成的。\n"
   ]
  },
  {
   "cell_type": "markdown",
   "metadata": {},
   "source": [
    "根据样本数据，建立模型。根据拟合的模型是否合适？可分为以下三类：\n",
    "\n",
    "1、合适拟合\n",
    "\n",
    "2、欠拟合，或者叫作叫做高偏差(bias)。\n",
    "\n",
    "3、过拟合，也叫高方差(variance)。\n"
   ]
  },
  {
   "cell_type": "markdown",
   "metadata": {},
   "source": [
    "再用几个简单的图形象了解一下过拟合和欠拟合。\n",
    "\n",
    "\n",
    "\n",
    "![这里写图片描述](https://img-blog.csdnimg.cn/img_convert/527c639567865236ebcf0ba8d1dcf2eb.png)\n",
    "\n",
    "\n",
    "![这里写图片描述](https://img-blog.csdnimg.cn/img_convert/0b1201e8d785ebd8dd84c27c2f2d324c.png)\n",
    "\n",
    "\n",
    "在线性回归中就可能会出现过拟合和欠拟合的问题。下面我们就来解决这两种问题。"
   ]
  },
  {
   "cell_type": "markdown",
   "metadata": {},
   "source": [
    "\n",
    "# 正则化（处理过拟合）：\n",
    "\n",
    "\n",
    "过拟合的问题如何解决？\n",
    "\n",
    "问题起源：模型太复杂，参数过多，特征数目过多。\n"
   ]
  },
  {
   "cell_type": "markdown",
   "metadata": {},
   "source": [
    "方法： \n",
    "\n",
    "1） 减少特征的数量，有人工选择，或者采用模型选择算法\n",
    "http://www.cnblogs.com/heaad/archive/2011/01/02/1924088.html （特征选择算法的综述）\n",
    "\n",
    "2） 正则化，即保留所有特征，但降低参数的值的影响。正则化的优点是，特征很多时，每个特征都会有一个合适的影响因子。"
   ]
  },
  {
   "cell_type": "markdown",
   "metadata": {},
   "source": [
    "拟合问题的状况，在线性回归问题中就是损失函数的量值不同。\n",
    "\n",
    "正则化就是为防止过度拟合的模型出现（过于复杂的模型），在损失函数里增加一个每个特征的惩罚因子。\n",
    "\n",
    "如正则化的线性回归的损失函数：\n",
    "\n",
    "$$J(w)=\\frac{1}{2m}[\\sum_{i=1}^m(h_w(x^{(i)})-y^{(i)})^2]+\\lambda\\sum_{j=1}^n w^2_j$$\n",
    "\n",
    "$\\lambda$就是惩罚因子。\n",
    "\n",
    "正则化是模型处理的典型方法。也是结构风险最小的策略。在经验风险（误差平方和）的基础上，增加一个惩罚项/正则化项。"
   ]
  },
  {
   "cell_type": "markdown",
   "metadata": {},
   "source": [
    "则最小二乘线性回归的解，也转化为\n",
    "\n",
    "$$w = (X^TX+\\lambda\n",
    "\t\t\\begin{pmatrix}\n",
    "        0 \\\\\n",
    "          &1&\\\\\n",
    "          &  &1 & \\\\\n",
    "        &&& \\cdots\\\\\n",
    "         && &  &1 \\\\\n",
    "        \\end{pmatrix}\n",
    "        )^{-1}X^Ty$$\n",
    "\n",
    "括号内的矩阵，即使在样本数小于特征数的情况下，也是可逆的。"
   ]
  },
  {
   "cell_type": "markdown",
   "metadata": {},
   "source": [
    "逻辑回归的正则化：\n",
    "\n",
    "$$J(w)=-[\\frac{1}{m} \\sum_{i=1}^my^{(i)}log h_w(x^{(i)})+(1-y^{(i)})log(1-h_w(x^{(i)}))] + \\frac{\\lambda}{2m}\\sum_{j=1}^nw_j^2$$\n",
    "\n",
    "从贝叶斯估计来看，正则化项对应模型的先验概率，复杂模型有较大先验概率，简单模型具有较小先验概率。这个里面又有几个概念。"
   ]
  },
  {
   "cell_type": "markdown",
   "metadata": {},
   "source": [
    "**L1正则化、L2正则化**\n",
    "\n",
    "L1正则化和L2正则化可以看做是损失函数的惩罚项。对于线性回归模型，使用L1正则化的模型建叫做Lasso回归，使用L2正则化的模型叫做Ridge回归（岭回归）。\n",
    "\n",
    "L1正则化是指权值向量w中各个元素的绝对值之和，通常表示为$||w||_1$\n",
    "\n",
    "$$J(w)=\\frac{1}{2m}[\\sum_{i=1}^m(h_w(x^{(i)})-y^{(i)})^2+\\lambda\\sum_{j=1}^n |w_j|]$$\n",
    "\n",
    "L2正则化是指权值向量w中各个元素的平方和然后再求平方根（可以看到Ridge回归的L2正则化项有平方符号），通常表示为$||w||_2$\n",
    "\n",
    "$$J(w)=\\frac{1}{2m}[\\sum_{i=1}^m(h_w(x^{(i)})-y^{(i)})^2]+\\lambda\\sum_{j=1}^n w^2_j$$\n"
   ]
  },
  {
   "cell_type": "markdown",
   "metadata": {},
   "source": [
    "L1正则化可以产生稀疏权值矩阵，即产生一个稀疏模型，可以用于特征选择。\n",
    "\n",
    "这是因为w绝对值求和这个正则项求导产生的后果是：当w为正时，更新后的w变小。\n",
    "\n",
    "当w为负时，更新后的w变大。因此它的效果就是让w往0靠，使网络中的权重尽可能为0，也就相当于减小了网络复杂度，防止过拟合。\n",
    "\n",
    "但是由于lasso回归的损失函数是不可导的，所以梯度下降算法将不再有效，下面利用坐标轴下降法进行求解。\n",
    "\n",
    "坐标轴下降法和梯度下降法具有同样的思想，都是沿着某个方向不断迭代，但是梯度下降法是沿着当前点的负梯度方向进行参数更新，而坐标轴下降法是沿着坐标轴的方向。\n",
    "\n",
    "**L2正则化可以防止模型过拟合（overfitting）；一定程度上，L1也可以防止过拟合**"
   ]
  },
  {
   "cell_type": "markdown",
   "metadata": {},
   "source": [
    "L2 和 L1 采用不同的方式降低权重：\n",
    "\n",
    " - L2 会降低权重2。\n",
    " - L1 会降低 |权重|。\n",
    "\n",
    "因此，L2 和 L1 具有不同的导数：\n",
    "\n",
    " - L2 的导数为 2 * 权重。\n",
    " - L1 的导数为 k（一个常数，其值与权重无关）。\n"
   ]
  },
  {
   "cell_type": "markdown",
   "metadata": {},
   "source": [
    "可以将 L2 的导数的作用理解为每次移除权重的 x%。\n",
    "\n",
    "如 Zeno 所知，对于任意数字，即使按每次减去 x% 的幅度执行数十亿次减法计算，最后得出的值也绝不会正好为 0。\n",
    "\n",
    "（Zeno 不太熟悉浮点精度限制，它可能会使结果正好为 0。）\n",
    "\n",
    "总而言之，L2 通常不会使权重变为 0。\n"
   ]
  },
  {
   "cell_type": "markdown",
   "metadata": {},
   "source": [
    "可以将 L1 的导数的作用理解为每次从权重中减去一个常数。\n",
    "\n",
    "不过，由于减去的是绝对值，L1 在 0 处具有不连续性，这会导致与 0 相交的减法结果变为 0。\n",
    "\n",
    "例如，如果减法使权重从 +0.1 变为 -0.2，L1 便会将权重设为 0。就这样，L1 使权重变为 0 了。"
   ]
  },
  {
   "cell_type": "markdown",
   "metadata": {},
   "source": [
    "**L1 正则化 - 减少所有权重的绝对值 - 证明对宽度模型非常有效。**\n",
    "\n",
    "总结就是：L1会趋向于产生少量的特征，而其他的特征都是0，而L2会选择更多的特征，这些特征都会接近于0。\n",
    "\n",
    "Lasso在特征选择时候非常有用，而Ridge就只是一种规则化而已。\n"
   ]
  },
  {
   "cell_type": "markdown",
   "metadata": {},
   "source": [
    "# 坐标轴下降法（解决L1正则化不可导的问题）\n",
    "\n",
    "\n",
    "设lasso回归的损失函数为：\n",
    "\n",
    "$$J(w)=\\frac{1}{2m}[\\sum_{i=1}^m(h_w(x^{(i)})-y^{(i)})^2+\\lambda\\sum_{j=1}^n |w_j|]$$\n",
    "\n",
    "其中，m为样本个数，n为特征个数。\n",
    "\n",
    "由于lasso回归的损失函数是不可导的，所以梯度下降算法将不再有效，下面利用坐标轴下降法进行求解。"
   ]
  },
  {
   "cell_type": "markdown",
   "metadata": {},
   "source": [
    "坐标轴下降法和梯度下降法具有同样的思想，都是沿着某个方向不断迭代，但是梯度下降法是沿着当前点的负梯度方向进行参数更新，\n",
    "\n",
    "而坐标轴下降法是沿着坐标轴的方向。\n",
    "\n",
    "梯度下降法：优化目标在w的n个坐标轴上(或者说向量的方向上)对损失函数做迭代的下降，当所有的坐标轴上的$w_i$(i = 1,2,...n)都达到收敛时，我们的损失函数最小，此时的w即为我们要求的结果。\n",
    "\n",
    "坐标轴下降法进行参数更新时，每次总是固定另外n-1个值，求另外一个的局部最优值，这样也避免了Lasso回归的损失函数不可导的问题。\n",
    "\n",
    "坐标轴下降法每轮迭代都需要O(mn)的计算。（和梯度下降算法相同）\n",
    "\n",
    "坐标轴下降法的数学依据为：对于一个可微凸函数，其中为的向量，如果对于一个解，使得在某个坐标轴上都能达到最小值，则就是的全局的最小值点。"
   ]
  },
  {
   "cell_type": "markdown",
   "metadata": {},
   "source": [
    "# 局部加权线性回归（处理欠拟合）\n",
    "\n",
    "\n",
    "线性回归的另一个问题是有可能出现欠拟合现象，因为它求的是具有小均方误差的无偏估计。\n",
    "\n",
    "显而易见，如果模型欠拟合将不能取得好的预测效果。所以有些方法允许在估计中引入一些偏差，从而降低预测的均方误差。\n",
    "\n",
    "其中的一个方法是局部加权线性回归（LWLR）。在该方法中，我们给待预测点附近的每个点赋予一定的权重。与KNN一样，这种算法每次预测均需要事先计算样本对象与待测对象的距离，并根据距离为样本对象中的对象赋予权值。\n",
    "\n",
    "注意：这个算法中涉及两个W矩阵，一个是根据待测对象为每个样本对象设置的权值矩阵W。\n",
    "\n",
    "它是一个对角矩阵，维度和样本数据集的对象个数相等。每个对角上的值，表示每个样本对象的权值。另外一个矩阵W就是我们要求得的回归系数矩阵W。\n",
    "\n",
    "该算法解出回归系数W的形式如下：公式中的大写W为权重矩阵，小写w为回归系数。"
   ]
  },
  {
   "cell_type": "markdown",
   "metadata": {},
   "source": [
    "$$w=(X^TWX)^{-1}X^TWy$$"
   ]
  },
  {
   "cell_type": "markdown",
   "metadata": {},
   "source": [
    "这个公式跟我们上面推导的公式的区别就在于权重矩阵W，它用来给每个点赋予权重。不同的待测对象的权重矩阵是不同的。\n",
    "\n",
    "LWLR使用”核”（与支持向量机中的核类似）来对附近的点赋予更高的权重。\n",
    "\n",
    "核的类型可以自由选择，最常用的核就是高斯核，高斯核对应的权重如下：其中$W(i,i)$表示权重矩阵第i个对角值，$x_i$表示第i个样本对象，$x$表示待测对象。\n",
    "\n",
    "$$W(i,i)=exp(-\\frac{(x_i-x)^2}{2k^2})$$\n",
    "\n",
    "我们通过改变k的值，可以调节回归效果。\n",
    "\n",
    "实现代码\n"
   ]
  },
  {
   "cell_type": "code",
   "execution_count": 10,
   "metadata": {},
   "outputs": [
    {
     "name": "stdout",
     "output_type": "stream",
     "text": [
      "矩阵为奇异矩阵,不能求逆\n",
      "矩阵为奇异矩阵,不能求逆\n"
     ]
    },
    {
     "data": {
      "image/png": "[encoded data removed]",
      "text/plain": [
       "<Figure size 720x576 with 3 Axes>"
      ]
     },
     "metadata": {
      "needs_background": "light"
     },
     "output_type": "display_data"
    }
   ],
   "source": [
    "import matplotlib.pyplot as plt\n",
    "import numpy as np\n",
    "\n",
    "#加载数据集，最后一列最为目标值，前面的为特征属性的值\n",
    "def loadDataSet(fileName):\n",
    "    xArr = []; yArr = []\n",
    "    for line in open(fileName).readlines():\n",
    "        curLine = line.strip().split('\\t')\n",
    "        xonerow = [1.0]   #添加1.0作为第一个系数，则第一个系数的权重用来代表y=wx+b中的b变量\n",
    "        for i in range(len(curLine)-1):\n",
    "            xonerow.append(float(curLine[i]))  #最后一列为输出结果值y，前面的值为输入x值\n",
    "        xArr.append(xonerow)\n",
    "        yArr.append(float(curLine[-1]))  #添加最后一列为结果值\n",
    "\n",
    "    return xArr, yArr\n",
    "\n",
    "\n",
    "# 局部加权线性回归。绘制多条局部加权回归曲线\n",
    "def plotlwlrRegression():\n",
    "    xArr, yArr = loadDataSet('data.txt')                                    #加载数据集\n",
    "    xMat = np.mat(xArr)                                                    #创建xMat矩阵。属性数据集，每行为一个样本对象，每列为一种属性\n",
    "    yMat = np.mat(yArr).reshape(len(yArr),1)                               #创建yMat矩阵。将结果值存储成列向量\n",
    "\n",
    "    testMat = xMat                     #原样选取样本数据集作为测试集。看看预测结果与真实结果之间的差距\n",
    "    m = np.shape(testMat)[0]          # 计算待测数据集的样本个数\n",
    "    yHat_1 = []  # 定义一个列表用来存储预测值\n",
    "    yHat_2 = []  # 定义一个列表用来存储预测值\n",
    "    yHat_3 = []  # 定义一个列表用来存储预测值\n",
    "    for i in range(m):  # 对每个待测样本点进行预测\n",
    "        yHat_1.append(lwlr(testMat[i,:], xMat, yMat, 1.0))                    # 根据局部加权线性回归计算yHat\n",
    "        yHat_2.append(lwlr(testMat[i,:], xMat, yMat, 0.01))                   # 根据局部加权线性回归计算yHat\n",
    "        yHat_3.append(lwlr(testMat[i,:], xMat, yMat, 0.003))                   # 根据局部加权线性回归计算yHat\n",
    "    yHat_1 = np.mat(yHat_1).reshape(len(yHat_1),1)\n",
    "    yHat_2 = np.mat(yHat_2).reshape(len(yHat_2), 1)\n",
    "    yHat_3 = np.mat(yHat_3).reshape(len(yHat_3), 1)\n",
    "\n",
    "\n",
    "    srtInd = xMat[:, 1].argsort(0)                                              #将样本数据集，第2列排序，返回索引值\n",
    "    xSort = xMat[srtInd][:,0,:]                                                 #根据排序索引，将所有列排序\n",
    "    ySort_1 = yHat_1[srtInd][:,0,:]\n",
    "    ySort_2 = yHat_2[srtInd][:,0,:]\n",
    "    ySort_3 = yHat_3[srtInd][:,0,:]\n",
    "\n",
    "    fig, axs = plt.subplots(nrows=3, ncols=1,figsize=(10,8))                    #创建三个子图\n",
    "    axs[0].plot(xSort[:,1], ySort_1, c = 'red',marker='.')                        #绘制回归曲线\n",
    "    axs[1].plot(xSort[:,1], ySort_2, c = 'red',marker='.')                        #绘制回归曲线\n",
    "    axs[2].plot(xSort[:,1], ySort_3, c = 'red',marker='.')                        #绘制回归曲线\n",
    "\n",
    "    axs[0].scatter(xMat[:,1].flatten().A[0], yMat.flatten().A[0], s = 20, c = 'blue', alpha = .5)                #绘制样本点\n",
    "    axs[1].scatter(xMat[:,1].flatten().A[0], yMat.flatten().A[0], s = 20, c = 'blue', alpha = .5)                #绘制样本点\n",
    "    axs[2].scatter(xMat[:,1].flatten().A[0], yMat.flatten().A[0], s = 20, c = 'blue', alpha = .5)                #绘制样本点\n",
    "\n",
    "    #设置标题,x轴label,y轴label\n",
    "    axs0_title_text = axs[0].set_title(u'k=1.0', size=8, weight='bold', color='red')\n",
    "    axs1_title_text = axs[1].set_title(u'k=0.01', size=8, weight='bold', color='red')\n",
    "    axs2_title_text = axs[2].set_title(u'k=0.003', size=8, weight='bold', color='red')\n",
    "\n",
    "\n",
    "    plt.xlabel('X');plt.ylabel('Y')\n",
    "    plt.show()\n",
    "\n",
    "\n",
    "# 使用局部加权线性回归计算回归系数w。不同的待测点获得的回归系数都不同。testPoint待测对象，xArr样本数据集，yArr结果数据集，k - 高斯核的k，表示拟合程度，为0表示100%拟合,自定义参数\n",
    "def lwlr(testPoint, xMat, yMat, k = 1.0):\n",
    "    m = np.shape(xMat)[0]                                               # 获取样本数量\n",
    "    weights = np.mat(np.eye((m)))                                       # 初始化局部权重对角矩阵。这里的局部权重矩阵是为待测点周边的每个节点赋予的影响矩阵。并不是线性回归系数。\n",
    "    for j in range(m):                                                 # 遍历数据集计算每个样本的权重\n",
    "        diffMat = testPoint - xMat[j,:]                                # 计算样本中每个对象与待测对象之间的距离\n",
    "        weights[j, j] = np.exp(diffMat * diffMat.T/(-2.0 * k**2))       # 为每个周边节点设定权重。越近的节点权重越大，越远的节点权重越小\n",
    "    xTx = xMat.T * (weights * xMat)                                     #  增加了局部权重矩阵，增大临近节点的影响力，降低远方节点的影响力\n",
    "    if np.linalg.det(xTx) == 0.0:\n",
    "        print(\"矩阵为奇异矩阵,不能求逆\")\n",
    "        return\n",
    "    ws = xTx.I * (xMat.T * (weights * yMat))                            # 计算回归系数\n",
    "    y = testPoint * ws                                                  # 计算预测值，矩阵相乘得到的是矩阵。虽然只有一个元素\n",
    "    return y[0,0]       #读取矩阵的值，返回数值\n",
    "\n",
    "\n",
    "if __name__ == '__main__':\n",
    "    plotlwlrRegression()"
   ]
  },
  {
   "cell_type": "markdown",
   "metadata": {},
   "source": [
    "\n",
    "![这里写图片描述](https://img-blog.csdnimg.cn/img_convert/39431a55e6f6a752b854298c6023316f.png)\n",
    "\n",
    "\n",
    "结果分析：很明显，当k=1.0时，回归曲线与散点图欠拟合(underfitting)，此时权重很大，如同将所有数据视为等权重，相当于普通线性回归模型；\n",
    "\n",
    "当k=0.01时得到了很好的效果；当k=0.003时，回归曲线与散点图过拟合(overfitting)，由于纳入了太多的噪声点，拟合的直线与数据点过于贴近，此时也不属于理想的模型。"
   ]
  },
  {
   "cell_type": "code",
   "execution_count": null,
   "metadata": {},
   "outputs": [],
   "source": []
  }
 ],
 "metadata": {
  "kernelspec": {
   "display_name": "Python 3",
   "language": "python",
   "name": "python3"
  },
  "language_info": {
   "codemirror_mode": {
    "name": "ipython",
    "version": 3
   },
   "file_extension": ".py",
   "mimetype": "text/x-python",
   "name": "python",
   "nbconvert_exporter": "python",
   "pygments_lexer": "ipython3",
   "version": "3.6.9"
  }
 },
 "nbformat": 4,
 "nbformat_minor": 4
}
