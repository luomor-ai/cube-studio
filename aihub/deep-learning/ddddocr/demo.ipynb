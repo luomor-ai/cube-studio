{
 "cells": [
  {
   "cell_type": "markdown",
   "id": "d7adeab2-199d-439a-a22d-a6877ca8cc93",
   "metadata": {},
   "source": [
    "项目地址：https://github.com/sml2h3/ddddocr"
   ]
  },
  {
   "cell_type": "code",
   "execution_count": 1,
   "id": "5f2e0802-5c65-487b-96b4-9cfbc339e9d9",
   "metadata": {},
   "outputs": [
    {
     "name": "stdout",
     "output_type": "stream",
     "text": [
      "Looking in indexes: https://mirrors.tencent.com/pypi/simple/, https://mirrors.tencent.com/repository/pypi/tencent_pypi/simple\n",
      "Collecting ddddocr\n",
      "  Downloading https://mirrors.tencent.com/pypi/packages/2b/03/cd7a1998cc435322956c8368bd621176ea50e4e6cbb778b3ba24d19fef8f/ddddocr-1.4.7-py3-none-any.whl (75.9 MB)\n",
      "     |████████████████████████████████| 75.9 MB 4.6 MB/s            \n",
      "\u001b[?25hCollecting opencv-python-headless\n",
      "  Downloading https://mirrors.tencent.com/pypi/packages/b8/c7/01e2d24aa3f4d4947147388278eed43c5a63ebc2f9b772f494eddf6b1ad7/opencv_python_headless-4.6.0.66-cp36-abi3-manylinux_2_17_x86_64.manylinux2014_x86_64.whl (48.3 MB)\n",
      "     |████████████████████████████████| 48.3 MB 4.6 MB/s            \n",
      "\u001b[?25hCollecting onnxruntime\n",
      "  Downloading https://mirrors.tencent.com/pypi/packages/1d/f1/0bd6b2506065849573570f102f3c4290af1caa1ceb7c2d3597230fb44091/onnxruntime-1.12.1-cp38-cp38-manylinux_2_27_x86_64.whl (4.9 MB)\n",
      "     |████████████████████████████████| 4.9 MB 4.6 MB/s            \n",
      "\u001b[?25hRequirement already satisfied: numpy in /usr/local/lib/python3.8/dist-packages (from ddddocr) (1.22.1)\n",
      "Requirement already satisfied: Pillow in /usr/local/lib/python3.8/dist-packages (from ddddocr) (9.2.0)\n",
      "Collecting coloredlogs\n",
      "  Downloading https://mirrors.tencent.com/pypi/packages/a7/06/3d6badcf13db419e25b07041d9c7b4a2c331d3f4e7134445ec5df57714cd/coloredlogs-15.0.1-py2.py3-none-any.whl (46 kB)\n",
      "     |████████████████████████████████| 46 kB 2.9 MB/s             \n",
      "\u001b[?25hCollecting sympy\n",
      "  Downloading https://mirrors.tencent.com/pypi/packages/2d/49/a2d03101e2d28ad528968144831d506344418ef1cc04839acdbe185889c2/sympy-1.11.1-py3-none-any.whl (6.5 MB)\n",
      "     |████████████████████████████████| 6.5 MB 4.1 MB/s            \n",
      "\u001b[?25hRequirement already satisfied: flatbuffers in /usr/local/lib/python3.8/dist-packages (from onnxruntime->ddddocr) (1.12)\n",
      "Requirement already satisfied: packaging in /usr/local/lib/python3.8/dist-packages (from onnxruntime->ddddocr) (21.3)\n",
      "Requirement already satisfied: protobuf in /usr/local/lib/python3.8/dist-packages (from onnxruntime->ddddocr) (3.19.3)\n",
      "Collecting humanfriendly>=9.1\n",
      "  Downloading https://mirrors.tencent.com/pypi/packages/f0/0f/310fb31e39e2d734ccaa2c0fb981ee41f7bd5056ce9bc29b2248bd569169/humanfriendly-10.0-py2.py3-none-any.whl (86 kB)\n",
      "     |████████████████████████████████| 86 kB 4.7 MB/s             \n",
      "\u001b[?25hRequirement already satisfied: pyparsing!=3.0.5,>=2.0.2 in /usr/local/lib/python3.8/dist-packages (from packaging->onnxruntime->ddddocr) (3.0.6)\n",
      "Collecting mpmath>=0.19\n",
      "  Downloading https://mirrors.tencent.com/pypi/packages/d4/cf/3965bddbb4f1a61c49aacae0e78fd1fe36b5dc36c797b31f30cf07dcbbb7/mpmath-1.2.1-py3-none-any.whl (532 kB)\n",
      "     |████████████████████████████████| 532 kB 787 kB/s            \n",
      "\u001b[?25hInstalling collected packages: mpmath, humanfriendly, sympy, coloredlogs, opencv-python-headless, onnxruntime, ddddocr\n",
      "Successfully installed coloredlogs-15.0.1 ddddocr-1.4.7 humanfriendly-10.0 mpmath-1.2.1 onnxruntime-1.12.1 opencv-python-headless-4.6.0.66 sympy-1.11.1\n",
      "\u001b[33mWARNING: Running pip as the 'root' user can result in broken permissions and conflicting behaviour with the system package manager. It is recommended to use a virtual environment instead: https://pip.pypa.io/warnings/venv\u001b[0m\n",
      "\u001b[33mWARNING: You are using pip version 21.3.1; however, version 22.2.2 is available.\n",
      "You should consider upgrading via the '/usr/bin/python -m pip install --upgrade pip' command.\u001b[0m\n"
     ]
    }
   ],
   "source": [
    "!pip install ddddocr"
   ]
  },
  {
   "cell_type": "markdown",
   "id": "e6faf858-cd79-4dab-8a82-07bf7a163fa0",
   "metadata": {},
   "source": [
    "# 第一部分 OCR识别部分"
   ]
  },
  {
   "cell_type": "code",
   "execution_count": 13,
   "id": "af68e7c2-da08-4b7e-9ef7-e3ab066a4cdb",
   "metadata": {},
   "outputs": [
    {
     "name": "stdout",
     "output_type": "stream",
     "text": [
      "--2022-09-21 14:42:40--  http://img.mp.itc.cn/upload/20170414/1b379f0892374b7bad4d84721dd6d830.jpg\n",
      "Resolving img.mp.itc.cn (img.mp.itc.cn)... 121.9.246.112, 121.9.246.113, 121.9.246.110, ...\n",
      "Connecting to img.mp.itc.cn (img.mp.itc.cn)|121.9.246.112|:80... connected.\n",
      "HTTP request sent, awaiting response... 200 OK\n",
      "Length: 4759 (4.6K) [image/jpeg]\n",
      "Saving to: ‘test.jpg’\n",
      "\n",
      "test.jpg            100%[===================>]   4.65K  --.-KB/s    in 0s      \n",
      "\n",
      "2022-09-21 14:42:40 (532 MB/s) - ‘test.jpg’ saved [4759/4759]\n",
      "\n"
     ]
    }
   ],
   "source": [
    "! wget http://img.mp.itc.cn/upload/20170414/1b379f0892374b7bad4d84721dd6d830.jpg -O test.jpg"
   ]
  },
  {
   "cell_type": "markdown",
   "id": "e270a2f0-3cf7-44ca-a7d5-3fa0f937a0f4",
   "metadata": {},
   "source": [
    "![test.jpg](../test.jpg)"
   ]
  },
  {
   "cell_type": "code",
   "execution_count": 14,
   "id": "c01dd0d0-f2c4-446e-b7c7-83bec9815b94",
   "metadata": {},
   "outputs": [
    {
     "name": "stdout",
     "output_type": "stream",
     "text": [
      "欢迎使用ddddocr，本项目专注带动行业内卷，个人博客:wenanzhe.com\n",
      "训练数据支持来源于:http://146.56.204.113:19199/preview\n",
      "爬虫框架feapder可快速一键接入，快速开启爬虫之旅：https://github.com/Boris-code/feapder\n",
      "谷歌reCaptcha验证码 / hCaptcha验证码 / funCaptcha验证码商业级识别接口：https://yescaptcha.com/i/NSwk7i\n",
      "结果： 2907\n"
     ]
    }
   ],
   "source": [
    "import ddddocr\n",
    "from PIL import Image\n",
    "\n",
    "# 模型\n",
    "ocr = ddddocr.DdddOcr(beta=True)\n",
    "\n",
    "# 验证码图片\n",
    "with open('test.jpg', 'rb') as f:\n",
    "    image = f.read()\n",
    "\n",
    "res = ocr.classification(image)\n",
    "# 验证码文字内容\n",
    "print('结果：',res)\n"
   ]
  },
  {
   "cell_type": "code",
   "execution_count": 15,
   "id": "b8185b96-e91c-4e3f-825b-1f05e12869b7",
   "metadata": {},
   "outputs": [
    {
     "name": "stdout",
     "output_type": "stream",
     "text": [
      "--2022-09-21 14:44:23--  https://user-images.githubusercontent.com/20157705/191401494-aa46d882-6be9-4499-b95b-667c7ce92385.png\n",
      "Resolving user-images.githubusercontent.com (user-images.githubusercontent.com)... 185.199.108.133, 185.199.109.133, 185.199.110.133, ...\n",
      "Connecting to user-images.githubusercontent.com (user-images.githubusercontent.com)|185.199.108.133|:443... connected.\n",
      "HTTP request sent, awaiting response... 200 OK\n",
      "Length: 1071999 (1.0M) [image/png]\n",
      "Saving to: ‘test2.png’\n",
      "\n",
      "test2.png           100%[===================>]   1.02M   289KB/s    in 3.8s    \n",
      "\n",
      "2022-09-21 14:44:30 (279 KB/s) - ‘test2.png’ saved [1071999/1071999]\n",
      "\n"
     ]
    }
   ],
   "source": [
    "! wget https://user-images.githubusercontent.com/20157705/191401494-aa46d882-6be9-4499-b95b-667c7ce92385.png -O test2.png"
   ]
  },
  {
   "cell_type": "markdown",
   "id": "d5bf7d4a-7b5d-47fe-8e4f-812d713b4817",
   "metadata": {},
   "source": [
    "![test.png](../test2.png)"
   ]
  },
  {
   "cell_type": "code",
   "execution_count": 16,
   "id": "3f590ab6-5f61-4208-97a4-842e8b51dfe1",
   "metadata": {},
   "outputs": [
    {
     "name": "stdout",
     "output_type": "stream",
     "text": [
      "欢迎使用ddddocr，本项目专注带动行业内卷，个人博客:wenanzhe.com\n",
      "训练数据支持来源于:http://146.56.204.113:19199/preview\n",
      "爬虫框架feapder可快速一键接入，快速开启爬虫之旅：https://github.com/Boris-code/feapder\n",
      "谷歌reCaptcha验证码 / hCaptcha验证码 / funCaptcha验证码商业级识别接口：https://yescaptcha.com/i/NSwk7i\n",
      "[[261, 734, 350, 822], [556, 828, 641, 911], [407, 733, 483, 808], [80, 498, 149, 572], [545, 673, 625, 752], [10, 496, 84, 568], [283, 97, 431, 245], [143, 498, 209, 565], [506, 9, 659, 149], [23, 133, 163, 285], [257, 323, 383, 451]]\n"
     ]
    },
    {
     "data": {
      "text/plain": [
       "True"
      ]
     },
     "execution_count": 16,
     "metadata": {},
     "output_type": "execute_result"
    }
   ],
   "source": [
    "import ddddocr\n",
    "import cv2\n",
    "\n",
    "det = ddddocr.DdddOcr(det=True)\n",
    "\n",
    "with open(\"test2.png\", 'rb') as f:\n",
    "    image = f.read()\n",
    "\n",
    "# 目标检测\n",
    "poses = det.detection(image)\n",
    "print(poses)\n",
    "\n",
    "im = cv2.imread(\"test2.png\")\n",
    "\n",
    "# 遍历检测出的文字\n",
    "for box in poses:\n",
    "    x1, y1, x2, y2 = box\n",
    "    # 给每个文字画矩形框\n",
    "    im = cv2.rectangle(im, (x1, y1), (x2, y2), color=(0, 0, 255), thickness=2)\n",
    "\n",
    "cv2.imwrite(\"result.jpg\", im)"
   ]
  },
  {
   "cell_type": "markdown",
   "id": "6a8a1146-ef89-4c6c-8d44-583d0a8e94f6",
   "metadata": {},
   "source": [
    "![test.png](../result.jpg)"
   ]
  },
  {
   "cell_type": "code",
   "execution_count": null,
   "id": "1c8b0f6c-0099-41bc-9ec1-5ef180e668e8",
   "metadata": {},
   "outputs": [],
   "source": []
  }
 ],
 "metadata": {
  "kernelspec": {
   "display_name": "Python 3 (ipykernel)",
   "language": "python",
   "name": "python3"
  },
  "language_info": {
   "codemirror_mode": {
    "name": "ipython",
    "version": 3
   },
   "file_extension": ".py",
   "mimetype": "text/x-python",
   "name": "python",
   "nbconvert_exporter": "python",
   "pygments_lexer": "ipython3",
   "version": "3.8.12"
  }
 },
 "nbformat": 4,
 "nbformat_minor": 5
}
